{
 "cells": [
  {
   "cell_type": "markdown",
   "metadata": {},
   "source": [
    "Copyright (C) 2023 Ming-Fong Sie <seansie07@gmail.com> & Yu-Jing Lin <elvisyjlin@gmail.com>\n",
    "\n",
    "This work is licensed under the Creative Commons Attribution-NonCommercial\n",
    "4.0 International License. To view a copy of this license, visit\n",
    "http://creativecommons.org/licenses/by-nc/4.0/ or send a letter to\n",
    "Creative Commons, PO Box 1866, Mountain View, CA 94042, USA."
   ]
  },
  {
   "cell_type": "code",
   "execution_count": 1,
   "metadata": {},
   "outputs": [],
   "source": [
    "# Import all used packages\n",
    "\n",
    "import argparse\n",
    "import json\n",
    "import os\n",
    "import pandas as pd\n",
    "import shutil\n",
    "from tqdm import tqdm\n",
    "\n",
    "from data_loader import TxLoader\n",
    "from summary import TxNCounter\n",
    "from utils import run_from_ipython"
   ]
  },
  {
   "cell_type": "code",
   "execution_count": 2,
   "metadata": {},
   "outputs": [
    {
     "name": "stdout",
     "output_type": "stream",
     "text": [
      "Namespace(data='./data', out='./data_p')\n"
     ]
    }
   ],
   "source": [
    "# Parse arguments\n",
    "\n",
    "def parse(args=None):\n",
    "    parser = argparse.ArgumentParser(\n",
    "        prog='Preprocessing',\n",
    "        description='Create the label-class mapping and a table containing in/out sizes of each transaction.'\n",
    "    )\n",
    "    parser.add_argument('--data', '-d', help='data path', type=str, default='./data')\n",
    "    parser.add_argument('--out', '-o', help='output path', type=str, default='./data_p')\n",
    "    return parser.parse_args() if args is None else parser.parse_args(args)\n",
    "args = parse([]) if run_from_ipython() else parse()\n",
    "print(args)"
   ]
  },
  {
   "cell_type": "markdown",
   "metadata": {},
   "source": []
  },
  {
   "cell_type": "code",
   "execution_count": 3,
   "metadata": {},
   "outputs": [
    {
     "name": "stdout",
     "output_type": "stream",
     "text": [
      "Generated files will be in the folder \"./data_p\"\n"
     ]
    }
   ],
   "source": [
    "# Create a folder for generated data files\n",
    "\n",
    "data_path = args.data\n",
    "out_path = args.out\n",
    "assert os.path.exists(data_path), 'Data path does not exist: ' + data_path\n",
    "if os.path.exists(out_path):\n",
    "    shutil.rmtree(out_path)\n",
    "os.mkdir(out_path)\n",
    "print('Generated files will be in the folder \"{:s}\"'.format(out_path))"
   ]
  },
  {
   "cell_type": "code",
   "execution_count": 4,
   "metadata": {},
   "outputs": [
    {
     "name": "stdout",
     "output_type": "stream",
     "text": [
      "# of addresses: 300000\n"
     ]
    },
    {
     "data": {
      "text/html": [
       "<div>\n",
       "<style scoped>\n",
       "    .dataframe tbody tr th:only-of-type {\n",
       "        vertical-align: middle;\n",
       "    }\n",
       "\n",
       "    .dataframe tbody tr th {\n",
       "        vertical-align: top;\n",
       "    }\n",
       "\n",
       "    .dataframe thead th {\n",
       "        text-align: right;\n",
       "    }\n",
       "</style>\n",
       "<table border=\"1\" class=\"dataframe\">\n",
       "  <thead>\n",
       "    <tr style=\"text-align: right;\">\n",
       "      <th></th>\n",
       "      <th>name</th>\n",
       "      <th>address</th>\n",
       "      <th>balance</th>\n",
       "      <th>incoming txs</th>\n",
       "      <th>last used in block</th>\n",
       "      <th>class</th>\n",
       "    </tr>\n",
       "  </thead>\n",
       "  <tbody>\n",
       "    <tr>\n",
       "      <th>0</th>\n",
       "      <td>Bittrex</td>\n",
       "      <td>15yuD7z6XamRArFbpdqFo7WTHZbzGxbgXL</td>\n",
       "      <td>0.0</td>\n",
       "      <td>6</td>\n",
       "      <td>524376</td>\n",
       "      <td>Exchange</td>\n",
       "    </tr>\n",
       "    <tr>\n",
       "      <th>1</th>\n",
       "      <td>Luno</td>\n",
       "      <td>36sQzkNExMrXtNvpnbnW5PWZHww3P1rDRj</td>\n",
       "      <td>0.0</td>\n",
       "      <td>1</td>\n",
       "      <td>599925</td>\n",
       "      <td>Exchange</td>\n",
       "    </tr>\n",
       "    <tr>\n",
       "      <th>2</th>\n",
       "      <td>Bittrex</td>\n",
       "      <td>15YiC4Z136DmCcwjf8xhXNQBDokVJPHGi9</td>\n",
       "      <td>0.0</td>\n",
       "      <td>2</td>\n",
       "      <td>503538</td>\n",
       "      <td>Exchange</td>\n",
       "    </tr>\n",
       "    <tr>\n",
       "      <th>3</th>\n",
       "      <td>Bittrex</td>\n",
       "      <td>17ahEkq2sWZwrTzaM77KEtSB3WCXVm7E11</td>\n",
       "      <td>0.0</td>\n",
       "      <td>1</td>\n",
       "      <td>472119</td>\n",
       "      <td>Exchange</td>\n",
       "    </tr>\n",
       "    <tr>\n",
       "      <th>4</th>\n",
       "      <td>Luno</td>\n",
       "      <td>3DXh8LsHfG7HLAzTV5JwEJEW4xCDQjDG1w</td>\n",
       "      <td>0.0</td>\n",
       "      <td>1</td>\n",
       "      <td>661120</td>\n",
       "      <td>Exchange</td>\n",
       "    </tr>\n",
       "  </tbody>\n",
       "</table>\n",
       "</div>"
      ],
      "text/plain": [
       "      name                             address  balance  incoming txs  \\\n",
       "0  Bittrex  15yuD7z6XamRArFbpdqFo7WTHZbzGxbgXL      0.0             6   \n",
       "1     Luno  36sQzkNExMrXtNvpnbnW5PWZHww3P1rDRj      0.0             1   \n",
       "2  Bittrex  15YiC4Z136DmCcwjf8xhXNQBDokVJPHGi9      0.0             2   \n",
       "3  Bittrex  17ahEkq2sWZwrTzaM77KEtSB3WCXVm7E11      0.0             1   \n",
       "4     Luno  3DXh8LsHfG7HLAzTV5JwEJEW4xCDQjDG1w      0.0             1   \n",
       "\n",
       "   last used in block     class  \n",
       "0              524376  Exchange  \n",
       "1              599925  Exchange  \n",
       "2              503538  Exchange  \n",
       "3              472119  Exchange  \n",
       "4              661120  Exchange  "
      ]
     },
     "execution_count": 4,
     "metadata": {},
     "output_type": "execute_result"
    }
   ],
   "source": [
    "# Load the Bitcoin dataset\n",
    "\n",
    "dataset = pd.read_csv(os.path.join(data_path, 'dataset_mymerge.csv'))\n",
    "print('# of addresses:', len(dataset['address']))\n",
    "dataset.head(5)"
   ]
  },
  {
   "cell_type": "code",
   "execution_count": 5,
   "metadata": {},
   "outputs": [
    {
     "name": "stdout",
     "output_type": "stream",
     "text": [
      "===> class2label.json\n",
      "{'Exchange': 0, 'Faucet': 1, 'Gambling': 2, 'Market': 3, 'Mixer': 4, 'Pool': 5}\n",
      "===> label2class.json\n",
      "['Exchange', 'Faucet', 'Gambling', 'Market', 'Mixer', 'Pool']\n"
     ]
    }
   ],
   "source": [
    "# Checkpoint the mapping between labels and classes (categories)\n",
    "\n",
    "total_classes = list(sorted(set(dataset['class'])))\n",
    "class2label = {}\n",
    "label2class = total_classes\n",
    "for l, c in enumerate(total_classes):\n",
    "    class2label[c] = l\n",
    "\n",
    "json.dump(class2label, open(os.path.join(out_path, 'class2label.json'), 'w', encoding='utf-8'))\n",
    "json.dump(label2class, open(os.path.join(out_path, 'label2class.json'), 'w', encoding='utf-8'))\n",
    "print('===> class2label.json')\n",
    "print(class2label)\n",
    "print('===> label2class.json')\n",
    "print(label2class)"
   ]
  },
  {
   "cell_type": "code",
   "execution_count": 6,
   "metadata": {},
   "outputs": [],
   "source": [
    "# Your existing code\n",
    "\n",
    "loader = TxLoader(root=os.path.join(data_path, 'transactions'), max_size=100000)\n",
    "counter = TxNCounter(loader)\n",
    "success, failed = 0, 0\n",
    "print(loader.index)\n",
    "\n",
    "# Set the batch size for splitting files\n",
    "batch_size = 100000\n",
    "file_counter = 1\n",
    "tx_in_out_sizes = {}\n",
    "\n",
    "keys = list(loader.index.keys())  # Get the keys from the loader index\n",
    "\n",
    "index = 1  # Starting index\n",
    "\n",
    "for tx_hash in tqdm(keys):\n",
    "    in_size, out_size = counter.get(tx_hash)\n",
    "    \n",
    "    # Check if in_size and out_size are retrieved successfully\n",
    "    if in_size is None or out_size is None:\n",
    "        failed += 1\n",
    "    else:\n",
    "        success += 1\n",
    "        # Store the input and output sizes in the dictionary\n",
    "        tx_in_out_sizes[tx_hash] = [in_size, out_size]\n",
    "\n",
    "    # Check if it's time to write to a new file\n",
    "    if index % batch_size == 0 or index == len(keys):  # Write at batch_size intervals or at the end\n",
    "        output_file_path = os.path.join(out_path, f\"tx_in_out_sizes{file_counter}.json\")\n",
    "        with open(output_file_path, 'w') as outfile:\n",
    "            json.dump(tx_in_out_sizes, outfile)\n",
    "        tx_in_out_sizes = {}  # Reset the dictionary for the next batch\n",
    "        file_counter += 1\n",
    "\n",
    "    index += 1  # Increment index outside the loop\n",
    "\n",
    "# Save the final overall transaction data to a separate file using counter.save()\n",
    "#counter.save(os.path.join(out_path, 'tx_in_out_sizes.json'))\n",
    "\n",
    "print('# of success / failed:', success, '/', failed)\n"
   ]
  }
 ],
 "metadata": {
  "kernelspec": {
   "display_name": "Python 3",
   "language": "python",
   "name": "python3"
  },
  "language_info": {
   "codemirror_mode": {
    "name": "ipython",
    "version": 3
   },
   "file_extension": ".py",
   "mimetype": "text/x-python",
   "name": "python",
   "nbconvert_exporter": "python",
   "pygments_lexer": "ipython3",
   "version": "3.8.9"
  },
  "vscode": {
   "interpreter": {
    "hash": "aee8b7b246df8f9039afb4144a1f6fd8d2ca17a180786b69acc140d282b71a49"
   }
  }
 },
 "nbformat": 4,
 "nbformat_minor": 2
}
