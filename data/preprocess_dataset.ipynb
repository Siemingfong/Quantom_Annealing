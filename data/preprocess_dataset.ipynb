{
 "cells": [
  {
   "cell_type": "code",
   "execution_count": 1,
   "metadata": {},
   "outputs": [],
   "source": [
    "import pandas as pd\n",
    "\n",
    "# 讀取CSV文件\n",
    "df = pd.read_csv('dataset_allmymerge.csv')\n",
    "\n",
    "# 隨機排序\n",
    "df = df.sample(frac=1).reset_index(drop=True)\n",
    "\n",
    "# 根據'class'列進行分組，並將每個組的行數限制為最多50000個\n",
    "df = df.groupby('class').head(50000)\n",
    "\n",
    "# 將結果保存為新的CSV文件\n",
    "df.to_csv('dataset_mymerge.csv', index=False)\n"
   ]
  },
  {
   "cell_type": "code",
   "execution_count": 2,
   "metadata": {},
   "outputs": [
    {
     "name": "stdout",
     "output_type": "stream",
     "text": [
      "Mixer的数量： 50000\n"
     ]
    }
   ],
   "source": [
    "import pandas as pd\n",
    "\n",
    "# 讀取CSV文件\n",
    "df = pd.read_csv('dataset_mymerge.csv')\n",
    "\n",
    "# 統計'class'列中值為'Mixer'的記錄數量\n",
    "mixer_count = df['class'].value_counts()['Mixer']\n",
    "\n",
    "print(\"Mixer的数量：\", mixer_count)"
   ]
  }
 ],
 "metadata": {
  "kernelspec": {
   "display_name": "Python 3",
   "language": "python",
   "name": "python3"
  },
  "language_info": {
   "codemirror_mode": {
    "name": "ipython",
    "version": 3
   },
   "file_extension": ".py",
   "mimetype": "text/x-python",
   "name": "python",
   "nbconvert_exporter": "python",
   "pygments_lexer": "ipython3",
   "version": "3.8.9"
  }
 },
 "nbformat": 4,
 "nbformat_minor": 4
}
