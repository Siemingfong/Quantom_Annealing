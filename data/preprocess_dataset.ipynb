{
 "cells": [
  {
   "cell_type": "code",
   "execution_count": 2,
   "metadata": {},
   "outputs": [],
   "source": [
    "import pandas as pd\n",
    "\n",
    "# 读取CSV文件\n",
    "df = pd.read_csv('dataset_allmymerge.csv')\n",
    "\n",
    "# 随机排序\n",
    "df = df.sample(frac=1).reset_index(drop=True)\n",
    "\n",
    "# 根据'class'列进行分组，并将每个组的行数限制为最多2500行\n",
    "df = df.groupby('class').head(50000)\n",
    "\n",
    "# 将结果保存为新的CSV文件\n",
    "df.to_csv('dataset_mymerge.csv', index=False)\n"
   ]
  },
  {
   "cell_type": "code",
   "execution_count": 4,
   "metadata": {},
   "outputs": [
    {
     "name": "stdout",
     "output_type": "stream",
     "text": [
      "Mixer的数量： 2500\n"
     ]
    }
   ],
   "source": [
    "import pandas as pd\n",
    "\n",
    "# 读取CSV文件\n",
    "df = pd.read_csv('dataset_mymerge.csv')\n",
    "\n",
    "# 统计'class'列中值为'Mixer'的记录数量\n",
    "mixer_count = df['class'].value_counts()['Mixer']\n",
    "\n",
    "print(\"Mixer的数量：\", mixer_count)"
   ]
  }
 ],
 "metadata": {
  "kernelspec": {
   "display_name": "Python 3",
   "language": "python",
   "name": "python3"
  },
  "language_info": {
   "codemirror_mode": {
    "name": "ipython",
    "version": 3
   },
   "file_extension": ".py",
   "mimetype": "text/x-python",
   "name": "python",
   "nbconvert_exporter": "python",
   "pygments_lexer": "ipython3",
   "version": "3.8.2"
  }
 },
 "nbformat": 4,
 "nbformat_minor": 4
}
