{
 "cells": [
  {
   "cell_type": "code",
   "execution_count": 6,
   "metadata": {},
   "outputs": [
    {
     "name": "stdout",
     "output_type": "stream",
     "text": [
      "Current block_hash: e59ffc9c9e7c899fd3acf8422274325e082d3a418f6e9b84283585c21c20105b\n",
      "Current directory_count: 000000000000000166\n",
      "Current transaction_count: 1665934\n",
      "Last block_hash: e59ffc9c9e7c899fd3acf8422274325e082d3a418f6e9b84283585c21c20105b\n",
      "Last directory_count: 000000000000000166\n",
      "Last transaction_count: 1665934\n"
     ]
    }
   ],
   "source": [
    "import os\n",
    "import json\n",
    "\n",
    "# 設置初始參數\n",
    "index_data = {}\n",
    "transaction_count = 0\n",
    "directory_count = 0\n",
    "\n",
    "# 加載index文件以獲取block_hash，directory_count和transaction_count\n",
    "index_directory = '../transactions/'\n",
    "index_file = os.path.join(index_directory, 'index.json')\n",
    "\n",
    "if os.path.exists(index_file):\n",
    "    with open(index_file, 'r', encoding='utf-8') as f:\n",
    "        index_data = json.load(f)\n",
    "        # 獲取最後的block_hash、directory_count和transaction_count\n",
    "        block_hashes = list(index_data.keys())\n",
    "        if block_hashes:\n",
    "            block_hash = block_hashes[-1]\n",
    "            directory_count = index_data[block_hash]\n",
    "            transaction_count = len(index_data)\n",
    "\n",
    "print(f\"Current block_hash: {block_hash}\")\n",
    "print(f\"Current directory_count: {directory_count}\")\n",
    "print(f\"Current transaction_count: {transaction_count}\")\n",
    "\n",
    "# 檢查特定文件是否存在\n",
    "target_directory = '00000' + str(int(directory_count)).zfill(3)\n",
    "target_file = os.path.join(target_directory, f'{block_hash}.json')\n",
    "\n",
    "\n",
    "if not os.path.exists(os.path.join(index_directory, target_file)):\n",
    "    # 如果文件不存在，將條目添加到index_data\n",
    "    index_data[block_hash] = target_directory\n",
    "    directory_count = str(int(directory_count) + 1).zfill(8)  # 將directory_count遞增並格式化為8位數的字符串\n",
    "\n",
    "\n",
    "# 保存更新後的index_data回到index.json\n",
    "with open(index_file, 'w', encoding='utf-8') as f:\n",
    "    json.dump(index_data, f, indent=2)\n",
    "\n",
    "print(f\"Last block_hash: {block_hash}\")\n",
    "print(f\"Last directory_count: {directory_count}\")\n",
    "print(f\"Last transaction_count: {transaction_count}\")\n"
   ]
  },
  {
   "cell_type": "code",
   "execution_count": null,
   "metadata": {},
   "outputs": [],
   "source": [
    "input_address = \"Input(0000000000000000000000000000000000000000000000000000000000000000,4294967295)\"\n",
    "\n",
    "# 將 input_address 轉換為字串\n",
    "input_str = str(input_address)\n",
    "\n",
    "# 使用字串處理方法提取子字串\n",
    "start_index = input_str.index(\"(\") + 1\n",
    "end_index = input_str.index(\",\", start_index)\n",
    "substring = input_str[start_index:end_index]\n",
    "\n",
    "print(substring)"
   ]
  }
 ],
 "metadata": {
  "kernelspec": {
   "display_name": "Python 3",
   "language": "python",
   "name": "python3"
  },
  "language_info": {
   "codemirror_mode": {
    "name": "ipython",
    "version": 3
   },
   "file_extension": ".py",
   "mimetype": "text/x-python",
   "name": "python",
   "nbconvert_exporter": "python",
   "pygments_lexer": "ipython3",
   "version": "3.8.9"
  }
 },
 "nbformat": 4,
 "nbformat_minor": 4
}
