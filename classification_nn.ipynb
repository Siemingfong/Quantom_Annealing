{
 "cells": [
  {
   "cell_type": "markdown",
   "metadata": {},
   "source": [
    "Copyright (C) 2019 Willy Po-Wei Wu <maya6282@gmail.com> and Elvis Yu-Jing Lin <elvisyjlin@gmail.com>\n",
    "\n",
    "This work is licensed under the Creative Commons Attribution-NonCommercial\n",
    "4.0 International License. To view a copy of this license, visit\n",
    "http://creativecommons.org/licenses/by-nc/4.0/ or send a letter to\n",
    "Creative Commons, PO Box 1866, Mountain View, CA 94042, USA."
   ]
  },
  {
   "cell_type": "markdown",
   "metadata": {},
   "source": [
    "#### Some Abbreviations\n",
    "1. cm: confusion matrix\n",
    "2. rp: classification report\n",
    "3. fi: feature importance\n",
    "4. if: important features"
   ]
  },
  {
   "cell_type": "code",
   "execution_count": 9,
   "metadata": {},
   "outputs": [],
   "source": [
    "# Import all used packages\n",
    "\n",
    "import argparse\n",
    "import collections\n",
    "import json\n",
    "import numpy as np\n",
    "import os\n",
    "import pandas as pd\n",
    "\n",
    "from utils import run_from_ipython, np2df\n",
    "\n",
    "if run_from_ipython():\n",
    "    import matplotlib\n",
    "    %matplotlib inline\n",
    "    import matplotlib.pyplot as plt\n",
    "    import seaborn as sns\n",
    "    sns.set_context('notebook')  # 'notebook', 'paper', 'talk', 'poster'\n",
    "    # sns.set_style('dark')  # None, 'darkgrid', 'whitegrid', 'dark', 'white', 'ticks'"
   ]
  },
  {
   "cell_type": "code",
   "execution_count": 10,
   "metadata": {},
   "outputs": [
    {
     "name": "stdout",
     "output_type": "stream",
     "text": [
      "Namespace(feature_type='bem', gpu=False, n_folds=10, output='./data_p', result='./result', scheme='address', temp='./temp')\n"
     ]
    }
   ],
   "source": [
    "# Parse Arguments\n",
    "\n",
    "def parse(args=None):\n",
    "    parser = argparse.ArgumentParser(\n",
    "        prog='Classification',\n",
    "        description='Train and test a machine learning classification method on the extracted features.'\n",
    "    )\n",
    "    parser.add_argument('--n_folds', help='n folds cross validation', type=int, default=10)\n",
    "    parser.add_argument('--feature_type', '-f',\n",
    "                        help='feature type (\"b\" | \"e\" | \"m\" or \"if4\", \"if5\", \"if10\", \"if13\", \"if20\", \"if64\")',\n",
    "                        type=str, default='bem')\n",
    "    parser.add_argument('--scheme', '-s', help='data scheme', type=str,\n",
    "                        choices=['address', 'entity'], default='address')\n",
    "    parser.add_argument('--gpu', help='use GPU', action='store_true')\n",
    "    parser.add_argument('--output', '-o', help='output path', type=str, default='./data_p')\n",
    "    parser.add_argument('--result', '-r', help='result path', type=str, default='./result')\n",
    "    parser.add_argument('--temp', '-t', help='temp path', type=str, default='./temp')\n",
    "    return parser.parse_args() if args is None else parser.parse_args(args)\n",
    "args = parse([]) if run_from_ipython() else parse()\n",
    "print(args)"
   ]
  },
  {
   "cell_type": "code",
   "execution_count": 11,
   "metadata": {},
   "outputs": [
    {
     "name": "stdout",
     "output_type": "stream",
     "text": [
      "Experiment Setting\n",
      "===> Feature Types:   bem\n",
      "===> Data Scheme:     address\n",
      "===> Use GPU:         False\n",
      "===> Training epochs: 4000\n"
     ]
    }
   ],
   "source": [
    "# Define the experiment setting\n",
    "\n",
    "n_folds = args.n_folds                       # 10\n",
    "feature_type = args.feature_type             # 'b' | 'e' | 'm' or 'if4', 'if5', 'if10', 'if13', 'if20', 'if64'\n",
    "scheme = args.scheme                         # 'address', 'entity'\n",
    "gpu = args.gpu\n",
    "output_path = args.output\n",
    "result_path = args.result\n",
    "temp_path = args.temp\n",
    "\n",
    "# Check the experiment setting\n",
    "\n",
    "assert not feature_type.startswith('if') and len(feature_type) > 0 or \\\n",
    "       feature_type.startswith('if') and feature_type[2:].isdigit()\n",
    "assert scheme in ['address', 'entity']\n",
    "\n",
    "# Number of epochs to train\n",
    "# The specified epochs are enough to converge for each scheme\n",
    "if scheme == 'address':\n",
    "    epochs = 4000\n",
    "elif scheme == 'entity':\n",
    "    epochs = 1500\n",
    "\n",
    "# Show the experiment setting\n",
    "\n",
    "print('Experiment Setting')\n",
    "print('===> Feature Types:  ', feature_type)\n",
    "print('===> Data Scheme:    ', scheme)\n",
    "print('===> Use GPU:        ', gpu)\n",
    "print('===> Training epochs:', epochs)"
   ]
  },
  {
   "cell_type": "code",
   "execution_count": 12,
   "metadata": {},
   "outputs": [
    {
     "name": "stdout",
     "output_type": "stream",
     "text": [
      "      n_tx  total_days  total_spent_btc  total_received_btc  total_spent_usd  \\\n",
      "0      1.0         1.0         0.010000            0.010000         2.756730   \n",
      "1      1.0         1.0         0.011000            0.011000         2.462163   \n",
      "2      1.0         1.0         0.010000            0.010000         3.279240   \n",
      "3      1.0         1.0         0.010521            0.010521         3.947436   \n",
      "4      1.0         1.0         0.010001            0.010001         2.734935   \n",
      "...    ...         ...              ...                 ...              ...   \n",
      "6631   1.0         1.0         1.000000            1.000000       219.158997   \n",
      "6632   8.0        70.0         2.071500            2.071500       496.212535   \n",
      "6633   2.0         2.0         0.360000            0.360000       138.339377   \n",
      "6634  15.0        90.0        21.957800           21.957800      5390.795085   \n",
      "6635   1.0         1.0         4.873600            4.873600      1826.552194   \n",
      "\n",
      "      total_received_usd  mean_balance_btc  std_balance_btc  mean_balance_usd  \\\n",
      "0               2.756730          0.010000         0.000000          2.756730   \n",
      "1               2.462163          0.011000         0.000000          2.462163   \n",
      "2               3.279240          0.010000         0.000000          3.279240   \n",
      "3               3.947436          0.010521         0.000000          3.947436   \n",
      "4               2.734935          0.010001         0.000000          2.734935   \n",
      "...                  ...               ...              ...               ...   \n",
      "6631          219.158997          1.000000         0.000000        219.158997   \n",
      "6632          496.212535          0.258937         0.072963         62.026567   \n",
      "6633          138.339377          0.180000         0.006400         69.169688   \n",
      "6634         5390.795085          1.463853         1.837876        359.386339   \n",
      "6635         1826.552194          4.873600         0.000000       1826.552194   \n",
      "\n",
      "      std_balance_usd  ...  dist_spend_4th_moment  dist_receive_1st_moment  \\\n",
      "0            0.000000  ...               0.000000                      0.0   \n",
      "1            0.000000  ...               0.000000                      0.0   \n",
      "2            0.000000  ...               0.000000                      0.0   \n",
      "3            0.000000  ...               0.000000                      0.0   \n",
      "4            0.000000  ...               0.000000                      0.0   \n",
      "...               ...  ...                    ...                      ...   \n",
      "6631         0.000000  ...               0.000000                      0.0   \n",
      "6632      4591.472719  ...               1.488699                   5754.0   \n",
      "6633       995.805678  ...               1.000000                    195.0   \n",
      "6634    105276.386675  ...               4.278794                   3713.4   \n",
      "6635         0.000000  ...               0.000000                      0.0   \n",
      "\n",
      "      dist_receive_2nd_moment  dist_receive_3rd_moment  \\\n",
      "0                0.000000e+00                 0.000000   \n",
      "1                0.000000e+00                 0.000000   \n",
      "2                0.000000e+00                 0.000000   \n",
      "3                0.000000e+00                 0.000000   \n",
      "4                0.000000e+00                 0.000000   \n",
      "...                       ...                      ...   \n",
      "6631             0.000000e+00                 0.000000   \n",
      "6632             1.457629e+07                -0.248881   \n",
      "6633             3.802500e+04                 0.000000   \n",
      "6634             1.137008e+07                 1.267196   \n",
      "6635             0.000000e+00                 0.000000   \n",
      "\n",
      "      dist_receive_4th_moment  dist_payback_1st_moment  \\\n",
      "0                    0.000000                      0.0   \n",
      "1                    0.000000                      0.0   \n",
      "2                    0.000000                      0.0   \n",
      "3                    0.000000                      0.0   \n",
      "4                    0.000000                      0.0   \n",
      "...                       ...                      ...   \n",
      "6631                 0.000000                      0.0   \n",
      "6632                 1.488699                   5754.0   \n",
      "6633                 1.000000                    195.0   \n",
      "6634                 4.278794                   3713.4   \n",
      "6635                 0.000000                      0.0   \n",
      "\n",
      "      dist_payback_2nd_moment  dist_payback_3rd_moment  \\\n",
      "0                0.000000e+00                 0.000000   \n",
      "1                0.000000e+00                 0.000000   \n",
      "2                0.000000e+00                 0.000000   \n",
      "3                0.000000e+00                 0.000000   \n",
      "4                0.000000e+00                 0.000000   \n",
      "...                       ...                      ...   \n",
      "6631             0.000000e+00                 0.000000   \n",
      "6632             1.457629e+07                -0.248881   \n",
      "6633             3.802500e+04                 0.000000   \n",
      "6634             1.137008e+07                 1.267196   \n",
      "6635             0.000000e+00                 0.000000   \n",
      "\n",
      "      dist_payback_4th_moment  class  \n",
      "0                    0.000000      0  \n",
      "1                    0.000000      0  \n",
      "2                    0.000000      2  \n",
      "3                    0.000000      0  \n",
      "4                    0.000000      0  \n",
      "...                       ...    ...  \n",
      "6631                 0.000000      5  \n",
      "6632                 1.488699      5  \n",
      "6633                 1.000000      5  \n",
      "6634                 4.278794      5  \n",
      "6635                 0.000000      5  \n",
      "\n",
      "[6636 rows x 69 columns]\n"
     ]
    }
   ],
   "source": [
    "# Load transaction history summarization data\n",
    "\n",
    "data_file = 'data.{}.csv'.format(scheme)\n",
    "data = pd.read_csv(os.path.join(output_path, data_file))\n",
    "print (data)\n",
    "if run_from_ipython():\n",
    "    data.head(5)\n",
    "else:\n",
    "    print(data.head(5))"
   ]
  },
  {
   "cell_type": "code",
   "execution_count": 13,
   "metadata": {},
   "outputs": [
    {
     "name": "stdout",
     "output_type": "stream",
     "text": [
      "6636 6636 64\n"
     ]
    }
   ],
   "source": [
    "# Define 3 types of features (basic statistics, extra statistics, and moments)\n",
    "\n",
    "basic = [\n",
    "    'f_tx', 'f_received', 'f_coinbase',\n",
    "    'f_spent_digits_-3', 'f_spent_digits_-2', 'f_spent_digits_-1', 'f_spent_digits_0',\n",
    "    'f_spent_digits_1', 'f_spent_digits_2', 'f_spent_digits_3', 'f_spent_digits_4',\n",
    "    'f_spent_digits_5', 'f_spent_digits_6', 'f_received_digits_-3', 'f_received_digits_-2',\n",
    "    'f_received_digits_-1', 'f_received_digits_0', 'f_received_digits_1', 'f_received_digits_2',\n",
    "    'f_received_digits_3', 'f_received_digits_4', 'f_received_digits_5', 'f_received_digits_6',\n",
    "    'r_payback', 'n_inputs_in_spent', 'n_outputs_in_spent'\n",
    "]\n",
    "extra = [\n",
    "    'n_tx', 'total_days', 'n_spent', 'n_received', 'n_coinbase', 'n_payback',\n",
    "    'total_spent_btc', 'total_received_btc',\n",
    "    'total_spent_usd', 'total_received_usd',\n",
    "    'mean_balance_btc', 'std_balance_btc',\n",
    "    'mean_balance_usd', 'std_balance_usd'\n",
    "]\n",
    "moments = [\n",
    "    'interval_1st_moment', 'interval_2nd_moment', 'interval_3rd_moment', 'interval_4th_moment',\n",
    "    'dist_total_1st_moment', 'dist_total_2nd_moment', 'dist_total_3rd_moment', 'dist_total_4th_moment',\n",
    "    'dist_coinbase_1st_moment', 'dist_coinbase_2nd_moment', 'dist_coinbase_3rd_moment', 'dist_coinbase_4th_moment',\n",
    "    'dist_spend_1st_moment', 'dist_spend_2nd_moment', 'dist_spend_3rd_moment', 'dist_spend_4th_moment',\n",
    "    'dist_receive_1st_moment', 'dist_receive_2nd_moment', 'dist_receive_3rd_moment', 'dist_receive_4th_moment',\n",
    "    'dist_payback_1st_moment', 'dist_payback_2nd_moment', 'dist_payback_3rd_moment', 'dist_payback_4th_moment'\n",
    "]\n",
    "\n",
    "features = []\n",
    "if not feature_type.startswith('if') and len(feature_type) > 0:\n",
    "    if 'b' in feature_type:\n",
    "        features += basic\n",
    "    if 'e' in feature_type:\n",
    "        features += extra\n",
    "    if 'm' in feature_type:\n",
    "        features += moments\n",
    "elif feature_type.startswith('if') and feature_type[2:].isdigit():\n",
    "    \"\"\"\n",
    "    Important features from LightGBM with BEM\n",
    "    [ 0 25 24 29 40 37 27 23 56 36  1 28 26 57 32 38 44 45 33 18 39 60 53 35\n",
    "     34 52 41 17 14 15 16 19 42  5  6 47  7 46  2 54  4 43  8 59 58 55  9 13\n",
    "     61 48  3 31 10 62 20 21 63 30 49 11 51 50 22 12]\n",
    "    \"\"\"\n",
    "    all_features = basic + extra + moments\n",
    "    if_indices = [\n",
    "        0, 25, 24, 29, 40, 37, 27, 23, 56, 36,\n",
    "        1, 28, 26, 57, 32, 38, 44, 45, 33, 18,\n",
    "        39, 60, 53, 35, 34, 52, 41, 17, 14, 15,\n",
    "        16, 19, 42, 5, 6, 47, 7, 46, 2, 54,\n",
    "        4, 43, 8, 59, 58, 55, 9, 13, 61, 48,\n",
    "        3, 31, 10, 62, 20, 21, 63, 30, 49, 11,\n",
    "        51, 50, 22, 12\n",
    "    ]\n",
    "    if_features = [all_features[i] for i in if_indices]\n",
    "    n_if = int(feature_type[2:])\n",
    "    features = if_features[:n_if]\n",
    "else:\n",
    "    raise Exception('Invalid feature types: {:s}'.format(feature_type))\n",
    "\n",
    "invalid_features = [feature for feature in features if feature not in data.columns]\n",
    "assert len(invalid_features) == 0, 'Invalid features: ' + ', '.join(invalid_features)\n",
    "\n",
    "X = data.get(features).values\n",
    "y = data['class'].values\n",
    "\n",
    "class2label = json.loads(open(os.path.join(output_path, 'class2label.json'), 'r').read())\n",
    "label2class = json.loads(open(os.path.join(output_path, 'label2class.json'), 'r').read())\n",
    "class_names = np.array([label2class[i] for i in range(6)])\n",
    "y_names = class_names[y]\n",
    "print(len(X), len(y), len(features))\n",
    "\n",
    "os.makedirs(result_path, exist_ok=True)"
   ]
  },
  {
   "cell_type": "code",
   "execution_count": 14,
   "metadata": {},
   "outputs": [
    {
     "name": "stdout",
     "output_type": "stream",
     "text": [
      "{'Exchange': 0, 'Faucet': 1, 'Gambling': 2, 'Market': 3, 'Mixer': 4, 'Pool': 5}\n",
      "Counter({2: 2018, 5: 1410, 1: 971, 3: 880, 0: 770, 4: 587})\n"
     ]
    },
    {
     "data": {
      "image/png": "[encoded data removed]",
      "text/plain": [
       "<Figure size 640x480 with 1 Axes>"
      ]
     },
     "metadata": {},
     "output_type": "display_data"
    }
   ],
   "source": [
    "def data_distribution(df):\n",
    "    if run_from_ipython():\n",
    "        plt.figure()\n",
    "        sns.countplot(df.index)\n",
    "    cnt = collections.Counter(df.index)\n",
    "    print(cnt)\n",
    "    return np.array([cnt[i] for i in range(len(cnt))])\n",
    "\n",
    "print(class2label)\n",
    "y_count = data_distribution(np2df(X, y))"
   ]
  },
  {
   "cell_type": "code",
   "execution_count": 15,
   "metadata": {},
   "outputs": [],
   "source": [
    "import os\n",
    "import pickle\n",
    "import shutil\n",
    "from tqdm import tqdm\n",
    "\n",
    "from sklearn.metrics import classification_report, confusion_matrix\n",
    "from sklearn.model_selection import StratifiedKFold\n",
    "import tensorflow as tf\n",
    "from tensorflow import keras\n",
    "from tensorflow.keras.layers import BatchNormalization, Dense, Dropout\n",
    "from tensorflow.keras.models import Sequential, load_model\n",
    "\n",
    "# 如果不想使用 GPU，可以設置環境變量\n",
    "if not gpu:\n",
    "    os.environ['CUDA_VISIBLE_DEVICES'] = '-1'\n",
    "\n",
    "# GPU 配置 for TensorFlow 2.x\n",
    "gpus = tf.config.experimental.list_physical_devices('GPU')\n",
    "if gpus:\n",
    "    try:\n",
    "        # 為每個 GPU 設置允許記憶體增長\n",
    "        for gpu in gpus:\n",
    "            tf.config.experimental.set_memory_growth(gpu, True)\n",
    "    except RuntimeError as e:\n",
    "        print(e)\n",
    "\n",
    "def build_model(input_size, num_classes, summary=False):\n",
    "    model = Sequential([\n",
    "        Dense(512, activation='relu', input_shape=(input_size,)),\n",
    "        BatchNormalization(momentum=0.0, epsilon=1e-5),\n",
    "        Dropout(0.2),\n",
    "        Dense(512, activation='relu'),\n",
    "        BatchNormalization(momentum=0.0, epsilon=1e-5),\n",
    "        Dropout(0.2),\n",
    "        Dense(512, activation='relu'),\n",
    "        BatchNormalization(momentum=0.0, epsilon=1e-5),\n",
    "        Dropout(0.2),\n",
    "        Dense(512, activation='relu'),\n",
    "        BatchNormalization(momentum=0.0, epsilon=1e-5),\n",
    "        Dropout(0.2),\n",
    "        Dense(num_classes, activation='softmax')\n",
    "    ])\n",
    "    if summary:\n",
    "        model.summary()\n",
    "    return model\n"
   ]
  },
  {
   "cell_type": "code",
   "execution_count": 16,
   "metadata": {},
   "outputs": [
    {
     "name": "stderr",
     "output_type": "stream",
     "text": [
      "C:\\Users\\SIEMINGFONG\\AppData\\Local\\Temp\\ipykernel_9780\\4022075598.py:12: RuntimeWarning: invalid value encountered in divide\n",
      "  X = np.nan_to_num((X - np.mean(X, axis=0)) / np.std(X, axis=0))\n"
     ]
    },
    {
     "name": "stdout",
     "output_type": "stream",
     "text": [
      "Normalizing data...\n"
     ]
    },
    {
     "name": "stderr",
     "output_type": "stream",
     "text": [
      "0it [00:00, ?it/s]"
     ]
    },
    {
     "name": "stdout",
     "output_type": "stream",
     "text": [
      "Model: \"sequential_1\"\n",
      "_________________________________________________________________\n",
      " Layer (type)                Output Shape              Param #   \n",
      "=================================================================\n",
      " dense_5 (Dense)             (None, 512)               33280     \n",
      "                                                                 \n",
      " batch_normalization_4 (Bat  (None, 512)               2048      \n",
      " chNormalization)                                                \n",
      "                                                                 \n",
      " dropout_4 (Dropout)         (None, 512)               0         \n",
      "                                                                 \n",
      " dense_6 (Dense)             (None, 512)               262656    \n",
      "                                                                 \n",
      " batch_normalization_5 (Bat  (None, 512)               2048      \n",
      " chNormalization)                                                \n",
      "                                                                 \n",
      " dropout_5 (Dropout)         (None, 512)               0         \n",
      "                                                                 \n",
      " dense_7 (Dense)             (None, 512)               262656    \n",
      "                                                                 \n",
      " batch_normalization_6 (Bat  (None, 512)               2048      \n",
      " chNormalization)                                                \n",
      "                                                                 \n",
      " dropout_6 (Dropout)         (None, 512)               0         \n",
      "                                                                 \n",
      " dense_8 (Dense)             (None, 512)               262656    \n",
      "                                                                 \n",
      " batch_normalization_7 (Bat  (None, 512)               2048      \n",
      " chNormalization)                                                \n",
      "                                                                 \n",
      " dropout_7 (Dropout)         (None, 512)               0         \n",
      "                                                                 \n",
      " dense_9 (Dense)             (None, 6)                 3078      \n",
      "                                                                 \n",
      "=================================================================\n",
      "Total params: 832518 (3.18 MB)\n",
      "Trainable params: 828422 (3.16 MB)\n",
      "Non-trainable params: 4096 (16.00 KB)\n",
      "_________________________________________________________________\n",
      "0.23945783078670502 0\n"
     ]
    },
    {
     "name": "stderr",
     "output_type": "stream",
     "text": [
      "C:\\Users\\SIEMINGFONG\\AppData\\Roaming\\Python\\Python38\\site-packages\\keras\\src\\engine\\training.py:3000: UserWarning: You are saving your model as an HDF5 file via `model.save()`. This file format is considered legacy. We recommend using instead the native Keras format, e.g. `model.save('my_model.keras')`.\n",
      "  saving_api.save_model(\n"
     ]
    },
    {
     "name": "stdout",
     "output_type": "stream",
     "text": [
      "0.2620481848716736 1\n",
      "0.2936747074127197 2\n",
      "0.32981929183006287 3\n",
      "0.33433735370635986 4\n",
      "0.33734938502311707 5\n",
      "0.4246987998485565 6\n",
      "0.4277108311653137 7\n",
      "0.4337349534034729 8\n",
      "0.4352409541606903 12\n",
      "0.4382530152797699 19\n",
      "0.4412650465965271 20\n",
      "0.4427710771560669 23\n",
      "0.4442771077156067 43\n",
      "0.4457831382751465 50\n",
      "0.4472891688346863 86\n",
      "0.4503012001514435 117\n",
      "0.4518072307109833 136\n",
      "0.45331326127052307 221\n",
      "0.45481929183006287 475\n",
      "0.4563252925872803 570\n",
      "0.45783132314682007 654\n",
      "0.45933735370635986 709\n",
      "0.46234938502311707 733\n",
      "0.46536144614219666 784\n",
      "0.46686747670173645 1844\n",
      "0.47138553857803345 1878\n",
      "0.47590360045433044 2037\n",
      "0.4819277226924896 3075\n",
      "0.4864457845687866 3144\n",
      "0.4894578456878662 3421\n",
      "0.4924698770046234 3875\n",
      "0.495481938123703 3902\n",
      "0.5015060305595398 3909\n",
      "187/187 [==============================] - 0s 1ms/step\n",
      "21/21 [==============================] - 0s 1ms/step\n"
     ]
    },
    {
     "name": "stderr",
     "output_type": "stream",
     "text": [
      "1it [11:59, 719.57s/it]"
     ]
    },
    {
     "name": "stdout",
     "output_type": "stream",
     "text": [
      "0.16867469251155853 0\n",
      "0.23192770779132843 1\n"
     ]
    },
    {
     "name": "stderr",
     "output_type": "stream",
     "text": [
      "C:\\Users\\SIEMINGFONG\\AppData\\Roaming\\Python\\Python38\\site-packages\\keras\\src\\engine\\training.py:3000: UserWarning: You are saving your model as an HDF5 file via `model.save()`. This file format is considered legacy. We recommend using instead the native Keras format, e.g. `model.save('my_model.keras')`.\n",
      "  saving_api.save_model(\n"
     ]
    },
    {
     "name": "stdout",
     "output_type": "stream",
     "text": [
      "0.2439759075641632 2\n",
      "0.2575301229953766 3\n",
      "0.2635542154312134 4\n",
      "0.2650602459907532 5\n",
      "0.3855421543121338 6\n",
      "0.3870481848716736 7\n",
      "0.3885542154312134 8\n",
      "0.39457830786705017 9\n",
      "0.39608433842658997 10\n",
      "0.40813252329826355 11\n",
      "0.41415661573410034 13\n",
      "0.41566264629364014 15\n",
      "0.42168673872947693 19\n",
      "0.4231927692890167 25\n",
      "0.4262048304080963 28\n",
      "0.4277108311653137 30\n",
      "0.4292168617248535 74\n",
      "0.4307228922843933 86\n",
      "0.4322289228439331 96\n",
      "0.4352409541606903 118\n",
      "0.4367469847202301 128\n",
      "0.4382530152797699 131\n",
      "0.4397590458393097 148\n",
      "0.4427710771560669 196\n",
      "0.4442771077156067 204\n",
      "0.4457831382751465 205\n",
      "0.4472891688346863 249\n",
      "0.4487951695919037 252\n",
      "0.4503012001514435 253\n",
      "0.4518072307109833 264\n",
      "0.4563252925872803 266\n",
      "0.45783132314682007 479\n",
      "0.45933735370635986 501\n",
      "0.46536144614219666 554\n",
      "0.47439759969711304 699\n",
      "0.47590360045433044 1565\n",
      "0.48042169213294983 1797\n",
      "0.4924698770046234 1983\n",
      "187/187 [==============================] - 0s 1ms/step\n",
      "21/21 [==============================] - 0s 1ms/step\n"
     ]
    },
    {
     "name": "stderr",
     "output_type": "stream",
     "text": [
      "2it [23:56, 717.88s/it]"
     ]
    },
    {
     "name": "stdout",
     "output_type": "stream",
     "text": [
      "0.17771084606647491 0\n",
      "0.22289156913757324 1\n"
     ]
    },
    {
     "name": "stderr",
     "output_type": "stream",
     "text": [
      "C:\\Users\\SIEMINGFONG\\AppData\\Roaming\\Python\\Python38\\site-packages\\keras\\src\\engine\\training.py:3000: UserWarning: You are saving your model as an HDF5 file via `model.save()`. This file format is considered legacy. We recommend using instead the native Keras format, e.g. `model.save('my_model.keras')`.\n",
      "  saving_api.save_model(\n"
     ]
    },
    {
     "name": "stdout",
     "output_type": "stream",
     "text": [
      "0.2439759075641632 2\n",
      "0.26656627655029297 3\n",
      "0.27861446142196655 4\n",
      "0.29518070816993713 5\n",
      "0.3268072307109833 6\n",
      "0.33885541558265686 7\n",
      "0.4277108311653137 9\n",
      "0.4292168617248535 10\n",
      "0.4352409541606903 11\n",
      "0.4412650465965271 12\n",
      "0.4427710771560669 24\n",
      "0.4442771077156067 126\n",
      "0.4457831382751465 131\n",
      "0.4472891688346863 158\n",
      "0.4487951695919037 197\n",
      "0.4503012001514435 214\n",
      "0.4518072307109833 228\n",
      "0.45331326127052307 230\n",
      "0.45783132314682007 413\n",
      "0.45933735370635986 451\n",
      "0.46084338426589966 457\n",
      "0.46536144614219666 476\n",
      "0.46686747670173645 794\n",
      "0.46837350726127625 846\n",
      "0.47138553857803345 933\n",
      "0.47891566157341003 976\n",
      "0.4819277226924896 1997\n",
      "0.4849397540092468 2111\n",
      "0.4909638464450836 2441\n",
      "0.4984939694404602 2939\n",
      "0.5030120611190796 3111\n",
      "187/187 [==============================] - 0s 1ms/step\n",
      "21/21 [==============================] - 0s 1ms/step\n"
     ]
    },
    {
     "name": "stderr",
     "output_type": "stream",
     "text": [
      "3it [35:57, 719.22s/it]"
     ]
    },
    {
     "name": "stdout",
     "output_type": "stream",
     "text": [
      "0.17319276928901672 0\n"
     ]
    },
    {
     "name": "stderr",
     "output_type": "stream",
     "text": [
      "C:\\Users\\SIEMINGFONG\\AppData\\Roaming\\Python\\Python38\\site-packages\\keras\\src\\engine\\training.py:3000: UserWarning: You are saving your model as an HDF5 file via `model.save()`. This file format is considered legacy. We recommend using instead the native Keras format, e.g. `model.save('my_model.keras')`.\n",
      "  saving_api.save_model(\n"
     ]
    },
    {
     "name": "stdout",
     "output_type": "stream",
     "text": [
      "0.25 1\n",
      "0.3087349534034729 2\n",
      "0.3177710771560669 3\n",
      "0.32831326127052307 4\n",
      "0.33433735370635986 5\n",
      "0.33584338426589966 6\n",
      "0.34186747670173645 7\n",
      "0.34487950801849365 11\n",
      "0.34939759969711304 12\n",
      "0.35240963101387024 13\n",
      "0.3569277226924896 18\n",
      "0.35843372344970703 20\n",
      "0.3614457845687866 26\n",
      "0.3674698770046234 30\n",
      "0.3689759075641632 31\n",
      "0.3719879388809204 38\n",
      "0.3734939694404602 45\n",
      "0.375 70\n",
      "0.4292168617248535 73\n",
      "0.45331326127052307 74\n",
      "0.45933735370635986 77\n",
      "0.46234938502311707 105\n",
      "0.46536144614219666 111\n",
      "0.46837350726127625 121\n",
      "0.46987950801849365 139\n",
      "0.47138553857803345 170\n",
      "0.47289156913757324 178\n",
      "0.47439759969711304 195\n",
      "0.47740963101387024 202\n",
      "0.47891566157341003 206\n",
      "0.48343372344970703 390\n",
      "0.4849397540092468 404\n",
      "0.4864457845687866 468\n",
      "0.4879518151283264 868\n",
      "0.4909638464450836 959\n",
      "0.495481938123703 1308\n",
      "0.5 1756\n",
      "0.5030120611190796 2757\n",
      "0.509036123752594 3441\n",
      "187/187 [==============================] - 0s 1ms/step\n",
      "21/21 [==============================] - 0s 3ms/step\n"
     ]
    },
    {
     "name": "stderr",
     "output_type": "stream",
     "text": [
      "4it [47:56, 719.32s/it]"
     ]
    },
    {
     "name": "stdout",
     "output_type": "stream",
     "text": [
      "0.32831326127052307 0\n"
     ]
    },
    {
     "name": "stderr",
     "output_type": "stream",
     "text": [
      "C:\\Users\\SIEMINGFONG\\AppData\\Roaming\\Python\\Python38\\site-packages\\keras\\src\\engine\\training.py:3000: UserWarning: You are saving your model as an HDF5 file via `model.save()`. This file format is considered legacy. We recommend using instead the native Keras format, e.g. `model.save('my_model.keras')`.\n",
      "  saving_api.save_model(\n"
     ]
    },
    {
     "name": "stdout",
     "output_type": "stream",
     "text": [
      "0.41415661573410034 4\n",
      "0.4277108311653137 5\n",
      "0.4322289228439331 11\n",
      "0.4352409541606903 20\n",
      "0.4412650465965271 22\n",
      "0.4472891688346863 30\n",
      "0.4487951695919037 342\n",
      "0.4518072307109833 464\n",
      "0.45481929183006287 537\n",
      "0.45933735370635986 593\n",
      "0.46084338426589966 688\n",
      "0.46385541558265686 740\n",
      "0.46837350726127625 824\n",
      "0.46987950801849365 876\n",
      "0.47138553857803345 896\n",
      "0.47590360045433044 962\n",
      "0.47740963101387024 1648\n",
      "0.47891566157341003 3232\n",
      "0.48343372344970703 3243\n",
      "0.4849397540092468 3416\n",
      "0.4864457845687866 3596\n",
      "0.4909638464450836 3605\n",
      "0.4939759075641632 3889\n",
      "187/187 [==============================] - 1s 4ms/step\n",
      "21/21 [==============================] - 0s 4ms/step\n"
     ]
    },
    {
     "name": "stderr",
     "output_type": "stream",
     "text": [
      "5it [1:10:30, 948.01s/it]"
     ]
    },
    {
     "name": "stdout",
     "output_type": "stream",
     "text": [
      "0.1882530152797699 0\n"
     ]
    },
    {
     "name": "stderr",
     "output_type": "stream",
     "text": [
      "C:\\Users\\SIEMINGFONG\\AppData\\Roaming\\Python\\Python38\\site-packages\\keras\\src\\engine\\training.py:3000: UserWarning: You are saving your model as an HDF5 file via `model.save()`. This file format is considered legacy. We recommend using instead the native Keras format, e.g. `model.save('my_model.keras')`.\n",
      "  saving_api.save_model(\n"
     ]
    },
    {
     "name": "stdout",
     "output_type": "stream",
     "text": [
      "0.23343373835086823 1\n",
      "0.2454819232225418 2\n",
      "0.27710843086242676 3\n",
      "0.3117469847202301 4\n",
      "0.3207831382751465 5\n",
      "0.3268072307109833 6\n",
      "0.32981929183006287 7\n",
      "0.33584338426589966 8\n",
      "0.34487950801849365 9\n",
      "0.40210843086242676 10\n",
      "0.41265061497688293 11\n",
      "0.41415661573410034 12\n",
      "0.42018070816993713 13\n",
      "0.42168673872947693 16\n",
      "0.4307228922843933 18\n",
      "0.4322289228439331 25\n",
      "0.4352409541606903 26\n",
      "0.4367469847202301 140\n",
      "0.4382530152797699 242\n",
      "0.4412650465965271 243\n",
      "0.4427710771560669 272\n",
      "0.4442771077156067 292\n",
      "0.4457831382751465 340\n",
      "0.4487951695919037 398\n",
      "0.4503012001514435 857\n",
      "0.4518072307109833 939\n",
      "0.45783132314682007 989\n",
      "0.45933735370635986 1095\n",
      "0.46234938502311707 1115\n",
      "0.46385541558265686 1118\n",
      "0.46686747670173645 1459\n",
      "0.47138553857803345 1584\n",
      "0.47740963101387024 2215\n",
      "0.4819277226924896 2670\n",
      "0.4849397540092468 3589\n",
      "187/187 [==============================] - 1s 3ms/step\n",
      "21/21 [==============================] - 0s 3ms/step\n"
     ]
    },
    {
     "name": "stderr",
     "output_type": "stream",
     "text": [
      "6it [1:28:44, 997.80s/it]"
     ]
    },
    {
     "name": "stdout",
     "output_type": "stream",
     "text": [
      "0.22775264084339142 0\n",
      "0.2730015218257904 1\n"
     ]
    },
    {
     "name": "stderr",
     "output_type": "stream",
     "text": [
      "C:\\Users\\SIEMINGFONG\\AppData\\Roaming\\Python\\Python38\\site-packages\\keras\\src\\engine\\training.py:3000: UserWarning: You are saving your model as an HDF5 file via `model.save()`. This file format is considered legacy. We recommend using instead the native Keras format, e.g. `model.save('my_model.keras')`.\n",
      "  saving_api.save_model(\n"
     ]
    },
    {
     "name": "stdout",
     "output_type": "stream",
     "text": [
      "0.28959277272224426 2\n",
      "0.3061840236186981 3\n",
      "0.31674209237098694 4\n",
      "0.322775274515152 5\n",
      "0.3333333432674408 6\n",
      "0.4012066423892975 7\n",
      "0.4147813022136688 8\n",
      "0.4162895977497101 9\n",
      "0.41779789328575134 11\n",
      "0.4193061888217926 12\n",
      "0.4223227798938751 13\n",
      "0.4238310754299164 14\n",
      "0.42533937096595764 15\n",
      "0.4268476665019989 255\n",
      "0.42835596203804016 288\n",
      "0.4298642575740814 345\n",
      "0.4313725531101227 346\n",
      "0.43288084864616394 399\n",
      "0.4343891441822052 407\n",
      "0.43589743971824646 412\n",
      "0.4374057352542877 414\n",
      "0.44343891739845276 485\n",
      "0.444947212934494 544\n",
      "0.4494720995426178 724\n",
      "0.4570135772228241 793\n",
      "0.4600301682949066 901\n",
      "0.4615384638309479 1133\n",
      "0.4690799415111542 1894\n",
      "0.47058823704719543 2172\n",
      "0.47360482811927795 2364\n",
      "0.47812971472740173 2391\n",
      "0.4901960790157318 2573\n",
      "0.4977375566959381 2792\n",
      "187/187 [==============================] - 0s 1ms/step\n",
      "21/21 [==============================] - 0s 1ms/step\n"
     ]
    },
    {
     "name": "stderr",
     "output_type": "stream",
     "text": [
      "7it [1:41:03, 913.26s/it]"
     ]
    },
    {
     "name": "stdout",
     "output_type": "stream",
     "text": [
      "0.2654600441455841 0\n"
     ]
    },
    {
     "name": "stderr",
     "output_type": "stream",
     "text": [
      "C:\\Users\\SIEMINGFONG\\AppData\\Roaming\\Python\\Python38\\site-packages\\keras\\src\\engine\\training.py:3000: UserWarning: You are saving your model as an HDF5 file via `model.save()`. This file format is considered legacy. We recommend using instead the native Keras format, e.g. `model.save('my_model.keras')`.\n",
      "  saving_api.save_model(\n"
     ]
    },
    {
     "name": "stdout",
     "output_type": "stream",
     "text": [
      "0.30467572808265686 1\n",
      "0.34690800309181213 2\n",
      "0.35444948077201843 3\n",
      "0.4298642575740814 5\n",
      "0.4313725531101227 6\n",
      "0.43288084864616394 7\n",
      "0.43589743971824646 8\n",
      "0.438914030790329 10\n",
      "0.4419306218624115 12\n",
      "0.444947212934494 23\n",
      "0.4464555084705353 27\n",
      "0.4494720995426178 36\n",
      "0.4539969861507416 37\n",
      "0.4570135772228241 77\n",
      "0.4600301682949066 79\n",
      "0.4615384638309479 87\n",
      "0.46304675936698914 109\n",
      "0.4645550549030304 120\n",
      "0.46606335043907166 130\n",
      "0.4690799415111542 132\n",
      "0.47058823704719543 139\n",
      "0.4751131236553192 145\n",
      "0.479638010263443 159\n",
      "0.48114630579948425 367\n",
      "0.48567119240760803 394\n",
      "0.4871794879436493 401\n",
      "0.48868778347969055 406\n",
      "0.49170437455177307 1092\n",
      "0.49321267008781433 1179\n",
      "0.4947209656238556 1362\n",
      "0.5022624731063843 3165\n",
      "187/187 [==============================] - 0s 1ms/step\n",
      "21/21 [==============================] - 0s 1ms/step\n"
     ]
    },
    {
     "name": "stderr",
     "output_type": "stream",
     "text": [
      "8it [1:53:17, 856.01s/it]"
     ]
    },
    {
     "name": "stdout",
     "output_type": "stream",
     "text": [
      "0.10558069497346878 0\n"
     ]
    },
    {
     "name": "stderr",
     "output_type": "stream",
     "text": [
      "C:\\Users\\SIEMINGFONG\\AppData\\Roaming\\Python\\Python38\\site-packages\\keras\\src\\engine\\training.py:3000: UserWarning: You are saving your model as an HDF5 file via `model.save()`. This file format is considered legacy. We recommend using instead the native Keras format, e.g. `model.save('my_model.keras')`.\n",
      "  saving_api.save_model(\n"
     ]
    },
    {
     "name": "stdout",
     "output_type": "stream",
     "text": [
      "0.16591252386569977 1\n",
      "0.30165913701057434 2\n",
      "0.3107089102268219 3\n",
      "0.3303167521953583 4\n",
      "0.33936652541160583 5\n",
      "0.42081448435783386 7\n",
      "0.4268476665019989 10\n",
      "0.4343891441822052 11\n",
      "0.4539969861507416 12\n",
      "0.45550528168678284 17\n",
      "0.4570135772228241 18\n",
      "0.45852187275886536 24\n",
      "0.4615384638309479 25\n",
      "0.4675716459751129 26\n",
      "0.4690799415111542 58\n",
      "0.47058823704719543 63\n",
      "0.4720965325832367 70\n",
      "0.47360482811927795 74\n",
      "0.4751131236553192 75\n",
      "0.4766214191913605 84\n",
      "0.47812971472740173 96\n",
      "0.479638010263443 117\n",
      "0.4826546013355255 127\n",
      "0.48567119240760803 152\n",
      "0.4871794879436493 202\n",
      "0.4901960790157318 208\n",
      "0.49170437455177307 229\n",
      "0.49321267008781433 414\n",
      "0.4947209656238556 417\n",
      "0.49622926115989685 476\n",
      "0.4977375566959381 523\n",
      "0.500754177570343 535\n",
      "0.5022624731063843 632\n",
      "0.5052790641784668 633\n",
      "0.5067873597145081 888\n",
      "0.5113122463226318 944\n"
     ]
    },
    {
     "name": "stderr",
     "output_type": "stream",
     "text": [
      "8it [2:05:05, 938.14s/it]\n"
     ]
    },
    {
     "ename": "KeyboardInterrupt",
     "evalue": "",
     "output_type": "error",
     "traceback": [
      "\u001b[1;31m---------------------------------------------------------------------------\u001b[0m",
      "\u001b[1;31mKeyboardInterrupt\u001b[0m                         Traceback (most recent call last)",
      "Cell \u001b[1;32mIn[16], line 34\u001b[0m\n\u001b[0;32m     32\u001b[0m acc \u001b[38;5;241m=\u001b[39m \u001b[38;5;241m-\u001b[39m\u001b[38;5;241m1\u001b[39m\n\u001b[0;32m     33\u001b[0m \u001b[38;5;28;01mfor\u001b[39;00m epoch \u001b[38;5;129;01min\u001b[39;00m \u001b[38;5;28mrange\u001b[39m(epochs):\n\u001b[1;32m---> 34\u001b[0m     \u001b[43mmodel\u001b[49m\u001b[38;5;241;43m.\u001b[39;49m\u001b[43mtrain_on_batch\u001b[49m\u001b[43m(\u001b[49m\u001b[43mX_train\u001b[49m\u001b[43m,\u001b[49m\u001b[43m \u001b[49m\u001b[43my_train_\u001b[49m\u001b[43m)\u001b[49m\n\u001b[0;32m     35\u001b[0m     accs \u001b[38;5;241m=\u001b[39m model\u001b[38;5;241m.\u001b[39mtest_on_batch(X_valid, y_valid_)\n\u001b[0;32m     36\u001b[0m     \u001b[38;5;28;01mif\u001b[39;00m accs[\u001b[38;5;241m1\u001b[39m] \u001b[38;5;241m>\u001b[39m acc:\n",
      "File \u001b[1;32m~\\AppData\\Roaming\\Python\\Python38\\site-packages\\keras\\src\\engine\\training.py:2684\u001b[0m, in \u001b[0;36mModel.train_on_batch\u001b[1;34m(self, x, y, sample_weight, class_weight, reset_metrics, return_dict)\u001b[0m\n\u001b[0;32m   2680\u001b[0m     iterator \u001b[38;5;241m=\u001b[39m data_adapter\u001b[38;5;241m.\u001b[39msingle_batch_iterator(\n\u001b[0;32m   2681\u001b[0m         \u001b[38;5;28mself\u001b[39m\u001b[38;5;241m.\u001b[39mdistribute_strategy, x, y, sample_weight, class_weight\n\u001b[0;32m   2682\u001b[0m     )\n\u001b[0;32m   2683\u001b[0m     \u001b[38;5;28mself\u001b[39m\u001b[38;5;241m.\u001b[39mtrain_function \u001b[38;5;241m=\u001b[39m \u001b[38;5;28mself\u001b[39m\u001b[38;5;241m.\u001b[39mmake_train_function()\n\u001b[1;32m-> 2684\u001b[0m     logs \u001b[38;5;241m=\u001b[39m \u001b[38;5;28;43mself\u001b[39;49m\u001b[38;5;241;43m.\u001b[39;49m\u001b[43mtrain_function\u001b[49m\u001b[43m(\u001b[49m\u001b[43miterator\u001b[49m\u001b[43m)\u001b[49m\n\u001b[0;32m   2686\u001b[0m logs \u001b[38;5;241m=\u001b[39m tf_utils\u001b[38;5;241m.\u001b[39msync_to_numpy_or_python_type(logs)\n\u001b[0;32m   2687\u001b[0m \u001b[38;5;28;01mif\u001b[39;00m return_dict:\n",
      "File \u001b[1;32m~\\AppData\\Roaming\\Python\\Python38\\site-packages\\tensorflow\\python\\util\\traceback_utils.py:150\u001b[0m, in \u001b[0;36mfilter_traceback.<locals>.error_handler\u001b[1;34m(*args, **kwargs)\u001b[0m\n\u001b[0;32m    148\u001b[0m filtered_tb \u001b[38;5;241m=\u001b[39m \u001b[38;5;28;01mNone\u001b[39;00m\n\u001b[0;32m    149\u001b[0m \u001b[38;5;28;01mtry\u001b[39;00m:\n\u001b[1;32m--> 150\u001b[0m   \u001b[38;5;28;01mreturn\u001b[39;00m \u001b[43mfn\u001b[49m\u001b[43m(\u001b[49m\u001b[38;5;241;43m*\u001b[39;49m\u001b[43margs\u001b[49m\u001b[43m,\u001b[49m\u001b[43m \u001b[49m\u001b[38;5;241;43m*\u001b[39;49m\u001b[38;5;241;43m*\u001b[39;49m\u001b[43mkwargs\u001b[49m\u001b[43m)\u001b[49m\n\u001b[0;32m    151\u001b[0m \u001b[38;5;28;01mexcept\u001b[39;00m \u001b[38;5;167;01mException\u001b[39;00m \u001b[38;5;28;01mas\u001b[39;00m e:\n\u001b[0;32m    152\u001b[0m   filtered_tb \u001b[38;5;241m=\u001b[39m _process_traceback_frames(e\u001b[38;5;241m.\u001b[39m__traceback__)\n",
      "File \u001b[1;32m~\\AppData\\Roaming\\Python\\Python38\\site-packages\\tensorflow\\python\\eager\\polymorphic_function\\polymorphic_function.py:825\u001b[0m, in \u001b[0;36mFunction.__call__\u001b[1;34m(self, *args, **kwds)\u001b[0m\n\u001b[0;32m    822\u001b[0m compiler \u001b[38;5;241m=\u001b[39m \u001b[38;5;124m\"\u001b[39m\u001b[38;5;124mxla\u001b[39m\u001b[38;5;124m\"\u001b[39m \u001b[38;5;28;01mif\u001b[39;00m \u001b[38;5;28mself\u001b[39m\u001b[38;5;241m.\u001b[39m_jit_compile \u001b[38;5;28;01melse\u001b[39;00m \u001b[38;5;124m\"\u001b[39m\u001b[38;5;124mnonXla\u001b[39m\u001b[38;5;124m\"\u001b[39m\n\u001b[0;32m    824\u001b[0m \u001b[38;5;28;01mwith\u001b[39;00m OptionalXlaContext(\u001b[38;5;28mself\u001b[39m\u001b[38;5;241m.\u001b[39m_jit_compile):\n\u001b[1;32m--> 825\u001b[0m   result \u001b[38;5;241m=\u001b[39m \u001b[38;5;28;43mself\u001b[39;49m\u001b[38;5;241;43m.\u001b[39;49m\u001b[43m_call\u001b[49m\u001b[43m(\u001b[49m\u001b[38;5;241;43m*\u001b[39;49m\u001b[43margs\u001b[49m\u001b[43m,\u001b[49m\u001b[43m \u001b[49m\u001b[38;5;241;43m*\u001b[39;49m\u001b[38;5;241;43m*\u001b[39;49m\u001b[43mkwds\u001b[49m\u001b[43m)\u001b[49m\n\u001b[0;32m    827\u001b[0m new_tracing_count \u001b[38;5;241m=\u001b[39m \u001b[38;5;28mself\u001b[39m\u001b[38;5;241m.\u001b[39mexperimental_get_tracing_count()\n\u001b[0;32m    828\u001b[0m without_tracing \u001b[38;5;241m=\u001b[39m (tracing_count \u001b[38;5;241m==\u001b[39m new_tracing_count)\n",
      "File \u001b[1;32m~\\AppData\\Roaming\\Python\\Python38\\site-packages\\tensorflow\\python\\eager\\polymorphic_function\\polymorphic_function.py:857\u001b[0m, in \u001b[0;36mFunction._call\u001b[1;34m(self, *args, **kwds)\u001b[0m\n\u001b[0;32m    854\u001b[0m   \u001b[38;5;28mself\u001b[39m\u001b[38;5;241m.\u001b[39m_lock\u001b[38;5;241m.\u001b[39mrelease()\n\u001b[0;32m    855\u001b[0m   \u001b[38;5;66;03m# In this case we have created variables on the first call, so we run the\u001b[39;00m\n\u001b[0;32m    856\u001b[0m   \u001b[38;5;66;03m# defunned version which is guaranteed to never create variables.\u001b[39;00m\n\u001b[1;32m--> 857\u001b[0m   \u001b[38;5;28;01mreturn\u001b[39;00m \u001b[38;5;28;43mself\u001b[39;49m\u001b[38;5;241;43m.\u001b[39;49m\u001b[43m_no_variable_creation_fn\u001b[49m\u001b[43m(\u001b[49m\u001b[38;5;241;43m*\u001b[39;49m\u001b[43margs\u001b[49m\u001b[43m,\u001b[49m\u001b[43m \u001b[49m\u001b[38;5;241;43m*\u001b[39;49m\u001b[38;5;241;43m*\u001b[39;49m\u001b[43mkwds\u001b[49m\u001b[43m)\u001b[49m  \u001b[38;5;66;03m# pylint: disable=not-callable\u001b[39;00m\n\u001b[0;32m    858\u001b[0m \u001b[38;5;28;01melif\u001b[39;00m \u001b[38;5;28mself\u001b[39m\u001b[38;5;241m.\u001b[39m_variable_creation_fn \u001b[38;5;129;01mis\u001b[39;00m \u001b[38;5;129;01mnot\u001b[39;00m \u001b[38;5;28;01mNone\u001b[39;00m:\n\u001b[0;32m    859\u001b[0m   \u001b[38;5;66;03m# Release the lock early so that multiple threads can perform the call\u001b[39;00m\n\u001b[0;32m    860\u001b[0m   \u001b[38;5;66;03m# in parallel.\u001b[39;00m\n\u001b[0;32m    861\u001b[0m   \u001b[38;5;28mself\u001b[39m\u001b[38;5;241m.\u001b[39m_lock\u001b[38;5;241m.\u001b[39mrelease()\n",
      "File \u001b[1;32m~\\AppData\\Roaming\\Python\\Python38\\site-packages\\tensorflow\\python\\eager\\polymorphic_function\\tracing_compiler.py:148\u001b[0m, in \u001b[0;36mTracingCompiler.__call__\u001b[1;34m(self, *args, **kwargs)\u001b[0m\n\u001b[0;32m    145\u001b[0m \u001b[38;5;28;01mwith\u001b[39;00m \u001b[38;5;28mself\u001b[39m\u001b[38;5;241m.\u001b[39m_lock:\n\u001b[0;32m    146\u001b[0m   (concrete_function,\n\u001b[0;32m    147\u001b[0m    filtered_flat_args) \u001b[38;5;241m=\u001b[39m \u001b[38;5;28mself\u001b[39m\u001b[38;5;241m.\u001b[39m_maybe_define_function(args, kwargs)\n\u001b[1;32m--> 148\u001b[0m \u001b[38;5;28;01mreturn\u001b[39;00m \u001b[43mconcrete_function\u001b[49m\u001b[38;5;241;43m.\u001b[39;49m\u001b[43m_call_flat\u001b[49m\u001b[43m(\u001b[49m\n\u001b[0;32m    149\u001b[0m \u001b[43m    \u001b[49m\u001b[43mfiltered_flat_args\u001b[49m\u001b[43m,\u001b[49m\u001b[43m \u001b[49m\u001b[43mcaptured_inputs\u001b[49m\u001b[38;5;241;43m=\u001b[39;49m\u001b[43mconcrete_function\u001b[49m\u001b[38;5;241;43m.\u001b[39;49m\u001b[43mcaptured_inputs\u001b[49m\u001b[43m)\u001b[49m\n",
      "File \u001b[1;32m~\\AppData\\Roaming\\Python\\Python38\\site-packages\\tensorflow\\python\\eager\\polymorphic_function\\monomorphic_function.py:1349\u001b[0m, in \u001b[0;36mConcreteFunction._call_flat\u001b[1;34m(self, args, captured_inputs)\u001b[0m\n\u001b[0;32m   1345\u001b[0m possible_gradient_type \u001b[38;5;241m=\u001b[39m gradients_util\u001b[38;5;241m.\u001b[39mPossibleTapeGradientTypes(args)\n\u001b[0;32m   1346\u001b[0m \u001b[38;5;28;01mif\u001b[39;00m (possible_gradient_type \u001b[38;5;241m==\u001b[39m gradients_util\u001b[38;5;241m.\u001b[39mPOSSIBLE_GRADIENT_TYPES_NONE\n\u001b[0;32m   1347\u001b[0m     \u001b[38;5;129;01mand\u001b[39;00m executing_eagerly):\n\u001b[0;32m   1348\u001b[0m   \u001b[38;5;66;03m# No tape is watching; skip to running the function.\u001b[39;00m\n\u001b[1;32m-> 1349\u001b[0m   \u001b[38;5;28;01mreturn\u001b[39;00m \u001b[38;5;28mself\u001b[39m\u001b[38;5;241m.\u001b[39m_build_call_outputs(\u001b[38;5;28;43mself\u001b[39;49m\u001b[38;5;241;43m.\u001b[39;49m\u001b[43m_inference_function\u001b[49m\u001b[43m(\u001b[49m\u001b[38;5;241;43m*\u001b[39;49m\u001b[43margs\u001b[49m\u001b[43m)\u001b[49m)\n\u001b[0;32m   1350\u001b[0m forward_backward \u001b[38;5;241m=\u001b[39m \u001b[38;5;28mself\u001b[39m\u001b[38;5;241m.\u001b[39m_select_forward_and_backward_functions(\n\u001b[0;32m   1351\u001b[0m     args,\n\u001b[0;32m   1352\u001b[0m     possible_gradient_type,\n\u001b[0;32m   1353\u001b[0m     executing_eagerly)\n\u001b[0;32m   1354\u001b[0m forward_function, args_with_tangents \u001b[38;5;241m=\u001b[39m forward_backward\u001b[38;5;241m.\u001b[39mforward()\n",
      "File \u001b[1;32m~\\AppData\\Roaming\\Python\\Python38\\site-packages\\tensorflow\\python\\eager\\polymorphic_function\\atomic_function.py:196\u001b[0m, in \u001b[0;36mAtomicFunction.__call__\u001b[1;34m(self, *args)\u001b[0m\n\u001b[0;32m    194\u001b[0m \u001b[38;5;28;01mwith\u001b[39;00m record\u001b[38;5;241m.\u001b[39mstop_recording():\n\u001b[0;32m    195\u001b[0m   \u001b[38;5;28;01mif\u001b[39;00m \u001b[38;5;28mself\u001b[39m\u001b[38;5;241m.\u001b[39m_bound_context\u001b[38;5;241m.\u001b[39mexecuting_eagerly():\n\u001b[1;32m--> 196\u001b[0m     outputs \u001b[38;5;241m=\u001b[39m \u001b[38;5;28;43mself\u001b[39;49m\u001b[38;5;241;43m.\u001b[39;49m\u001b[43m_bound_context\u001b[49m\u001b[38;5;241;43m.\u001b[39;49m\u001b[43mcall_function\u001b[49m\u001b[43m(\u001b[49m\n\u001b[0;32m    197\u001b[0m \u001b[43m        \u001b[49m\u001b[38;5;28;43mself\u001b[39;49m\u001b[38;5;241;43m.\u001b[39;49m\u001b[43mname\u001b[49m\u001b[43m,\u001b[49m\n\u001b[0;32m    198\u001b[0m \u001b[43m        \u001b[49m\u001b[38;5;28;43mlist\u001b[39;49m\u001b[43m(\u001b[49m\u001b[43margs\u001b[49m\u001b[43m)\u001b[49m\u001b[43m,\u001b[49m\n\u001b[0;32m    199\u001b[0m \u001b[43m        \u001b[49m\u001b[38;5;28;43mlen\u001b[39;49m\u001b[43m(\u001b[49m\u001b[38;5;28;43mself\u001b[39;49m\u001b[38;5;241;43m.\u001b[39;49m\u001b[43mfunction_type\u001b[49m\u001b[38;5;241;43m.\u001b[39;49m\u001b[43mflat_outputs\u001b[49m\u001b[43m)\u001b[49m\u001b[43m,\u001b[49m\n\u001b[0;32m    200\u001b[0m \u001b[43m    \u001b[49m\u001b[43m)\u001b[49m\n\u001b[0;32m    201\u001b[0m   \u001b[38;5;28;01melse\u001b[39;00m:\n\u001b[0;32m    202\u001b[0m     outputs \u001b[38;5;241m=\u001b[39m make_call_op_in_graph(\u001b[38;5;28mself\u001b[39m, \u001b[38;5;28mlist\u001b[39m(args))\n",
      "File \u001b[1;32m~\\AppData\\Roaming\\Python\\Python38\\site-packages\\tensorflow\\python\\eager\\context.py:1457\u001b[0m, in \u001b[0;36mContext.call_function\u001b[1;34m(self, name, tensor_inputs, num_outputs)\u001b[0m\n\u001b[0;32m   1455\u001b[0m cancellation_context \u001b[38;5;241m=\u001b[39m cancellation\u001b[38;5;241m.\u001b[39mcontext()\n\u001b[0;32m   1456\u001b[0m \u001b[38;5;28;01mif\u001b[39;00m cancellation_context \u001b[38;5;129;01mis\u001b[39;00m \u001b[38;5;28;01mNone\u001b[39;00m:\n\u001b[1;32m-> 1457\u001b[0m   outputs \u001b[38;5;241m=\u001b[39m \u001b[43mexecute\u001b[49m\u001b[38;5;241;43m.\u001b[39;49m\u001b[43mexecute\u001b[49m\u001b[43m(\u001b[49m\n\u001b[0;32m   1458\u001b[0m \u001b[43m      \u001b[49m\u001b[43mname\u001b[49m\u001b[38;5;241;43m.\u001b[39;49m\u001b[43mdecode\u001b[49m\u001b[43m(\u001b[49m\u001b[38;5;124;43m\"\u001b[39;49m\u001b[38;5;124;43mutf-8\u001b[39;49m\u001b[38;5;124;43m\"\u001b[39;49m\u001b[43m)\u001b[49m\u001b[43m,\u001b[49m\n\u001b[0;32m   1459\u001b[0m \u001b[43m      \u001b[49m\u001b[43mnum_outputs\u001b[49m\u001b[38;5;241;43m=\u001b[39;49m\u001b[43mnum_outputs\u001b[49m\u001b[43m,\u001b[49m\n\u001b[0;32m   1460\u001b[0m \u001b[43m      \u001b[49m\u001b[43minputs\u001b[49m\u001b[38;5;241;43m=\u001b[39;49m\u001b[43mtensor_inputs\u001b[49m\u001b[43m,\u001b[49m\n\u001b[0;32m   1461\u001b[0m \u001b[43m      \u001b[49m\u001b[43mattrs\u001b[49m\u001b[38;5;241;43m=\u001b[39;49m\u001b[43mattrs\u001b[49m\u001b[43m,\u001b[49m\n\u001b[0;32m   1462\u001b[0m \u001b[43m      \u001b[49m\u001b[43mctx\u001b[49m\u001b[38;5;241;43m=\u001b[39;49m\u001b[38;5;28;43mself\u001b[39;49m\u001b[43m,\u001b[49m\n\u001b[0;32m   1463\u001b[0m \u001b[43m  \u001b[49m\u001b[43m)\u001b[49m\n\u001b[0;32m   1464\u001b[0m \u001b[38;5;28;01melse\u001b[39;00m:\n\u001b[0;32m   1465\u001b[0m   outputs \u001b[38;5;241m=\u001b[39m execute\u001b[38;5;241m.\u001b[39mexecute_with_cancellation(\n\u001b[0;32m   1466\u001b[0m       name\u001b[38;5;241m.\u001b[39mdecode(\u001b[38;5;124m\"\u001b[39m\u001b[38;5;124mutf-8\u001b[39m\u001b[38;5;124m\"\u001b[39m),\n\u001b[0;32m   1467\u001b[0m       num_outputs\u001b[38;5;241m=\u001b[39mnum_outputs,\n\u001b[1;32m   (...)\u001b[0m\n\u001b[0;32m   1471\u001b[0m       cancellation_manager\u001b[38;5;241m=\u001b[39mcancellation_context,\n\u001b[0;32m   1472\u001b[0m   )\n",
      "File \u001b[1;32m~\\AppData\\Roaming\\Python\\Python38\\site-packages\\tensorflow\\python\\eager\\execute.py:53\u001b[0m, in \u001b[0;36mquick_execute\u001b[1;34m(op_name, num_outputs, inputs, attrs, ctx, name)\u001b[0m\n\u001b[0;32m     51\u001b[0m \u001b[38;5;28;01mtry\u001b[39;00m:\n\u001b[0;32m     52\u001b[0m   ctx\u001b[38;5;241m.\u001b[39mensure_initialized()\n\u001b[1;32m---> 53\u001b[0m   tensors \u001b[38;5;241m=\u001b[39m \u001b[43mpywrap_tfe\u001b[49m\u001b[38;5;241;43m.\u001b[39;49m\u001b[43mTFE_Py_Execute\u001b[49m\u001b[43m(\u001b[49m\u001b[43mctx\u001b[49m\u001b[38;5;241;43m.\u001b[39;49m\u001b[43m_handle\u001b[49m\u001b[43m,\u001b[49m\u001b[43m \u001b[49m\u001b[43mdevice_name\u001b[49m\u001b[43m,\u001b[49m\u001b[43m \u001b[49m\u001b[43mop_name\u001b[49m\u001b[43m,\u001b[49m\n\u001b[0;32m     54\u001b[0m \u001b[43m                                      \u001b[49m\u001b[43minputs\u001b[49m\u001b[43m,\u001b[49m\u001b[43m \u001b[49m\u001b[43mattrs\u001b[49m\u001b[43m,\u001b[49m\u001b[43m \u001b[49m\u001b[43mnum_outputs\u001b[49m\u001b[43m)\u001b[49m\n\u001b[0;32m     55\u001b[0m \u001b[38;5;28;01mexcept\u001b[39;00m core\u001b[38;5;241m.\u001b[39m_NotOkStatusException \u001b[38;5;28;01mas\u001b[39;00m e:\n\u001b[0;32m     56\u001b[0m   \u001b[38;5;28;01mif\u001b[39;00m name \u001b[38;5;129;01mis\u001b[39;00m \u001b[38;5;129;01mnot\u001b[39;00m \u001b[38;5;28;01mNone\u001b[39;00m:\n",
      "\u001b[1;31mKeyboardInterrupt\u001b[0m: "
     ]
    }
   ],
   "source": [
    "# 訓練過程\n",
    "train_cm_list = []\n",
    "train_rp_list = []\n",
    "valid_cm_list = []\n",
    "valid_rp_list = []\n",
    "\n",
    "# 宣告 K-Fold\n",
    "skf = StratifiedKFold(n_splits=n_folds, shuffle=True)\n",
    "\n",
    "# 標準化資料\n",
    "print('Normalizing data...')\n",
    "X = np.nan_to_num((X - np.mean(X, axis=0)) / np.std(X, axis=0))\n",
    "X = np.clip(X, np.percentile(X, 1, axis=0), np.percentile(X, 99, axis=0))\n",
    "\n",
    "# 開始交叉驗證\n",
    "for i, (train_idx, valid_idx) in tqdm(enumerate(skf.split(X, y))):\n",
    "    # 取得分割的訓練集和驗證集\n",
    "    X_train, X_valid = X[train_idx], X[valid_idx]\n",
    "    y_train, y_valid = y[train_idx], y[valid_idx]\n",
    "    y_train_ = keras.utils.to_categorical(y_train, num_classes=len(class2label))\n",
    "    y_valid_ = keras.utils.to_categorical(y_valid, num_classes=len(class2label))\n",
    "    \n",
    "    # 建立模型\n",
    "    model = build_model(X.shape[1], len(label2class), summary=(i==0))\n",
    "    model.compile(\n",
    "        optimizer=keras.optimizers.Adam(1e-4, beta_1=0.5, beta_2=0.999),\n",
    "        loss='categorical_crossentropy',\n",
    "        metrics=['accuracy']\n",
    "    )\n",
    "    \n",
    "    # 訓練模型\n",
    "    acc = -1\n",
    "    for epoch in range(epochs):\n",
    "        model.train_on_batch(X_train, y_train_)\n",
    "        accs = model.test_on_batch(X_valid, y_valid_)\n",
    "        if accs[1] > acc:\n",
    "            acc = accs[1]\n",
    "            print(acc, epoch)\n",
    "            model.save(os.path.join(temp_path, 'model.h5'))\n",
    "    model = load_model(os.path.join(temp_path, 'model.h5'))\n",
    "    \n",
    "    # 在訓練集上評估\n",
    "    y_pred = np.argmax(model.predict(X_train), axis=1)\n",
    "    cm = confusion_matrix(y_train, y_pred)\n",
    "    cm_sum = cm.sum(axis=1, keepdims=True)\n",
    "    cm_sum[cm_sum == 0] = 1  # 防止除零\n",
    "    cm = cm / cm_sum\n",
    "    train_cm_list.append(cm)\n",
    "    \n",
    "    # 在驗證集上評估\n",
    "    y_pred = np.argmax(model.predict(X_valid), axis=1)\n",
    "    cm = confusion_matrix(y_valid, y_pred)\n",
    "    cm = cm / cm.sum(axis=1, keepdims=True)\n",
    "    valid_cm_list.append(cm)\n",
    "    rp = classification_report(y_valid, y_pred, target_names=class_names, output_dict=True)\n",
    "    valid_rp_list.append(rp)\n",
    "\n",
    "# 清除臨時檔案\n",
    "shutil.rmtree(temp_path)"
   ]
  },
  {
   "cell_type": "code",
   "execution_count": null,
   "metadata": {},
   "outputs": [],
   "source": [
    "# Save training results\n",
    "\n",
    "experiment_name = os.path.join(result_path, 'nn.{}.{}'.format(feature_type, scheme))\n",
    "results = {\n",
    "    'train_cm_list': train_cm_list,\n",
    "    'valid_cm_list': valid_cm_list,\n",
    "    'train_rp_list': train_rp_list,\n",
    "    'valid_rp_list': valid_rp_list,\n",
    "    'fi_list': fi_list\n",
    "}\n",
    "pickle.dump(results, open(experiment_name + '.pkl', 'wb'))"
   ]
  },
  {
   "cell_type": "code",
   "execution_count": null,
   "metadata": {},
   "outputs": [],
   "source": [
    "# Average confusion matrix of training set in K-fold\n",
    "\n",
    "print('Average confusion matrix of training set in {:d}-fold'.format(n_folds))\n",
    "show_cm_list(train_cm_list, class_names)"
   ]
  },
  {
   "cell_type": "code",
   "execution_count": null,
   "metadata": {},
   "outputs": [],
   "source": [
    "# Average classification report of training set in K-fold\n",
    "\n",
    "print('Average classification report of training set in {:d}-fold'.format(n_folds))\n",
    "show_rp_list(train_rp_list)"
   ]
  },
  {
   "cell_type": "code",
   "execution_count": null,
   "metadata": {},
   "outputs": [],
   "source": [
    "# Average confusion matrix of validataion set in K-fold\n",
    "\n",
    "print('Average confusion matrix of validataion set in {:d}-fold'.format(n_folds))\n",
    "show_cm_list(valid_cm_list, class_names)"
   ]
  },
  {
   "cell_type": "code",
   "execution_count": null,
   "metadata": {},
   "outputs": [],
   "source": [
    "# Average classification report of validataion set in K-fold\n",
    "\n",
    "print('Average classification report of validataion set in {:d}-fold'.format(n_folds))\n",
    "show_rp_list(valid_rp_list)"
   ]
  },
  {
   "cell_type": "code",
   "execution_count": null,
   "metadata": {},
   "outputs": [],
   "source": []
  }
 ],
 "metadata": {
  "kernelspec": {
   "display_name": "Python 3",
   "language": "python",
   "name": "python3"
  },
  "language_info": {
   "codemirror_mode": {
    "name": "ipython",
    "version": 3
   },
   "file_extension": ".py",
   "mimetype": "text/x-python",
   "name": "python",
   "nbconvert_exporter": "python",
   "pygments_lexer": "ipython3",
   "version": "3.8.9"
  }
 },
 "nbformat": 4,
 "nbformat_minor": 4
}
