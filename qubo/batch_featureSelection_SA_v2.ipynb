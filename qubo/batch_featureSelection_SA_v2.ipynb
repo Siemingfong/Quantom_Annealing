{
 "cells": [
  {
   "cell_type": "code",
   "execution_count": 1,
   "metadata": {},
   "outputs": [],
   "source": [
    "import numpy as np\n",
    "import pandas as pd\n",
    "\n",
    "from pyqubo import Array\n",
    "import neal\n",
    "import matplotlib.pyplot as plt\n",
    "import requests\n"
   ]
  },
  {
   "cell_type": "code",
   "execution_count": 2,
   "metadata": {},
   "outputs": [],
   "source": [
    "# Project: feature selection for credit scoring\n",
    "class FeatureSelection_v1(object):\n",
    "    def __init__(self, num_features, dependence_coefficients, influence_coefficients, alpha):\n",
    "        self.alpha = alpha\n",
    "        \n",
    "        # Number of features\n",
    "        self.num_features = num_features\n",
    "        self.dependence_coefficients = dependence_coefficients\n",
    "        self.influence_coefficients = influence_coefficients\n",
    "        \n",
    "        # Create binary variables for the features\n",
    "        self.array = Array.create('feature', shape=self.num_features, vartype='BINARY')\n",
    "\n",
    "    def influence(self):\n",
    "        # Objective: Maximize influence of the features\n",
    "        H = sum(-self.influence_coefficients[i] * self.array[i] for i in range(self.num_features))\n",
    "        return self.alpha * H\n",
    "        \n",
    "    def dependency(self):\n",
    "        # Objective: Minimize dependency among the features\n",
    "        H = sum(self.dependence_coefficients[i][j] * self.array[i] * self.array[j] \n",
    "                for i in range(self.num_features) for j in range(i + 1, self.num_features))\n",
    "        return (1 - self.alpha) * H\n",
    "\n"
   ]
  },
  {
   "cell_type": "code",
   "execution_count": 3,
   "metadata": {},
   "outputs": [
    {
     "name": "stderr",
     "output_type": "stream",
     "text": [
      "C:\\Users\\SIEMINGFONG\\AppData\\Roaming\\Python\\Python38\\site-packages\\dwave\\samplers\\sa\\sampler.py:576: RuntimeWarning: divide by zero encountered in log\n",
      "  cold_beta = np.log(number_min_gaps/max_single_qubit_excitation_rate) / (2*min_effective_field)\n"
     ]
    },
    {
     "name": "stdout",
     "output_type": "stream",
     "text": [
      "{'feature[0]': 1, 'feature[10]': 1, 'feature[11]': 0, 'feature[12]': 0, 'feature[13]': 0, 'feature[14]': 1, 'feature[15]': 1, 'feature[16]': 1, 'feature[17]': 1, 'feature[18]': 1, 'feature[19]': 1, 'feature[1]': 0, 'feature[20]': 1, 'feature[21]': 0, 'feature[22]': 0, 'feature[23]': 0, 'feature[24]': 0, 'feature[25]': 1, 'feature[26]': 0, 'feature[27]': 1, 'feature[28]': 1, 'feature[29]': 1, 'feature[2]': 1, 'feature[30]': 1, 'feature[31]': 0, 'feature[32]': 0, 'feature[33]': 0, 'feature[34]': 0, 'feature[35]': 1, 'feature[36]': 1, 'feature[37]': 0, 'feature[38]': 1, 'feature[39]': 1, 'feature[3]': 0, 'feature[40]': 1, 'feature[41]': 1, 'feature[42]': 1, 'feature[43]': 1, 'feature[44]': 1, 'feature[45]': 0, 'feature[46]': 0, 'feature[47]': 0, 'feature[48]': 1, 'feature[49]': 1, 'feature[4]': 1, 'feature[50]': 1, 'feature[51]': 0, 'feature[52]': 1, 'feature[53]': 1, 'feature[54]': 0, 'feature[55]': 1, 'feature[56]': 1, 'feature[57]': 1, 'feature[58]': 0, 'feature[59]': 1, 'feature[5]': 0, 'feature[60]': 1, 'feature[61]': 0, 'feature[62]': 0, 'feature[63]': 1, 'feature[64]': 0, 'feature[65]': 1, 'feature[66]': 1, 'feature[67]': 1, 'feature[6]': 0, 'feature[7]': 0, 'feature[8]': 1, 'feature[9]': 1} nan\n"
     ]
    },
    {
     "name": "stderr",
     "output_type": "stream",
     "text": [
      "C:\\Users\\SIEMINGFONG\\AppData\\Roaming\\Python\\Python38\\site-packages\\dwave\\samplers\\sa\\sampler.py:576: RuntimeWarning: divide by zero encountered in log\n",
      "  cold_beta = np.log(number_min_gaps/max_single_qubit_excitation_rate) / (2*min_effective_field)\n",
      "C:\\Users\\SIEMINGFONG\\AppData\\Roaming\\Python\\Python38\\site-packages\\dwave\\samplers\\sa\\sampler.py:576: RuntimeWarning: divide by zero encountered in log\n",
      "  cold_beta = np.log(number_min_gaps/max_single_qubit_excitation_rate) / (2*min_effective_field)\n"
     ]
    },
    {
     "name": "stdout",
     "output_type": "stream",
     "text": [
      "{'feature[0]': 0, 'feature[10]': 0, 'feature[11]': 0, 'feature[12]': 0, 'feature[13]': 1, 'feature[14]': 1, 'feature[15]': 1, 'feature[16]': 0, 'feature[17]': 0, 'feature[18]': 1, 'feature[19]': 1, 'feature[1]': 0, 'feature[20]': 1, 'feature[21]': 1, 'feature[22]': 1, 'feature[23]': 1, 'feature[24]': 0, 'feature[25]': 1, 'feature[26]': 0, 'feature[27]': 0, 'feature[28]': 0, 'feature[29]': 0, 'feature[2]': 0, 'feature[30]': 0, 'feature[31]': 1, 'feature[32]': 0, 'feature[33]': 1, 'feature[34]': 0, 'feature[35]': 0, 'feature[36]': 0, 'feature[37]': 0, 'feature[38]': 1, 'feature[39]': 0, 'feature[3]': 0, 'feature[40]': 0, 'feature[41]': 0, 'feature[42]': 1, 'feature[43]': 0, 'feature[44]': 0, 'feature[45]': 0, 'feature[46]': 0, 'feature[47]': 1, 'feature[48]': 0, 'feature[49]': 0, 'feature[4]': 0, 'feature[50]': 0, 'feature[51]': 0, 'feature[52]': 1, 'feature[53]': 0, 'feature[54]': 1, 'feature[55]': 1, 'feature[56]': 0, 'feature[57]': 0, 'feature[58]': 0, 'feature[59]': 1, 'feature[5]': 1, 'feature[60]': 1, 'feature[61]': 0, 'feature[62]': 1, 'feature[63]': 1, 'feature[64]': 1, 'feature[65]': 1, 'feature[66]': 1, 'feature[67]': 0, 'feature[6]': 1, 'feature[7]': 1, 'feature[8]': 1, 'feature[9]': 1} nan\n",
      "{'feature[0]': 0, 'feature[10]': 1, 'feature[11]': 1, 'feature[12]': 1, 'feature[13]': 1, 'feature[14]': 0, 'feature[15]': 0, 'feature[16]': 0, 'feature[17]': 1, 'feature[18]': 1, 'feature[19]': 0, 'feature[1]': 1, 'feature[20]': 1, 'feature[21]': 0, 'feature[22]': 0, 'feature[23]': 1, 'feature[24]': 0, 'feature[25]': 0, 'feature[26]': 1, 'feature[27]': 0, 'feature[28]': 0, 'feature[29]': 0, 'feature[2]': 0, 'feature[30]': 1, 'feature[31]': 0, 'feature[32]': 1, 'feature[33]': 0, 'feature[34]': 1, 'feature[35]': 1, 'feature[36]': 1, 'feature[37]': 1, 'feature[38]': 1, 'feature[39]': 1, 'feature[3]': 0, 'feature[40]': 1, 'feature[41]': 0, 'feature[42]': 1, 'feature[43]': 0, 'feature[44]': 0, 'feature[45]': 0, 'feature[46]': 1, 'feature[47]': 0, 'feature[48]': 0, 'feature[49]': 0, 'feature[4]': 0, 'feature[50]': 1, 'feature[51]': 1, 'feature[52]': 0, 'feature[53]': 1, 'feature[54]': 0, 'feature[55]': 0, 'feature[56]': 0, 'feature[57]': 0, 'feature[58]': 0, 'feature[59]': 1, 'feature[5]': 1, 'feature[60]': 1, 'feature[61]': 1, 'feature[62]': 0, 'feature[63]': 1, 'feature[64]': 0, 'feature[65]': 0, 'feature[66]': 1, 'feature[67]': 0, 'feature[6]': 0, 'feature[7]': 0, 'feature[8]': 1, 'feature[9]': 0} nan\n"
     ]
    },
    {
     "name": "stderr",
     "output_type": "stream",
     "text": [
      "C:\\Users\\SIEMINGFONG\\AppData\\Roaming\\Python\\Python38\\site-packages\\dwave\\samplers\\sa\\sampler.py:576: RuntimeWarning: divide by zero encountered in log\n",
      "  cold_beta = np.log(number_min_gaps/max_single_qubit_excitation_rate) / (2*min_effective_field)\n",
      "C:\\Users\\SIEMINGFONG\\AppData\\Roaming\\Python\\Python38\\site-packages\\dwave\\samplers\\sa\\sampler.py:576: RuntimeWarning: divide by zero encountered in log\n",
      "  cold_beta = np.log(number_min_gaps/max_single_qubit_excitation_rate) / (2*min_effective_field)\n"
     ]
    },
    {
     "name": "stdout",
     "output_type": "stream",
     "text": [
      "{'feature[0]': 0, 'feature[10]': 1, 'feature[11]': 1, 'feature[12]': 0, 'feature[13]': 1, 'feature[14]': 0, 'feature[15]': 0, 'feature[16]': 0, 'feature[17]': 1, 'feature[18]': 1, 'feature[19]': 1, 'feature[1]': 1, 'feature[20]': 0, 'feature[21]': 0, 'feature[22]': 1, 'feature[23]': 0, 'feature[24]': 1, 'feature[25]': 0, 'feature[26]': 0, 'feature[27]': 0, 'feature[28]': 1, 'feature[29]': 1, 'feature[2]': 0, 'feature[30]': 1, 'feature[31]': 1, 'feature[32]': 0, 'feature[33]': 0, 'feature[34]': 1, 'feature[35]': 1, 'feature[36]': 1, 'feature[37]': 1, 'feature[38]': 0, 'feature[39]': 0, 'feature[3]': 1, 'feature[40]': 1, 'feature[41]': 0, 'feature[42]': 1, 'feature[43]': 1, 'feature[44]': 1, 'feature[45]': 0, 'feature[46]': 0, 'feature[47]': 0, 'feature[48]': 1, 'feature[49]': 0, 'feature[4]': 1, 'feature[50]': 0, 'feature[51]': 0, 'feature[52]': 0, 'feature[53]': 1, 'feature[54]': 1, 'feature[55]': 0, 'feature[56]': 1, 'feature[57]': 0, 'feature[58]': 0, 'feature[59]': 0, 'feature[5]': 0, 'feature[60]': 0, 'feature[61]': 1, 'feature[62]': 0, 'feature[63]': 1, 'feature[64]': 1, 'feature[65]': 0, 'feature[66]': 1, 'feature[67]': 0, 'feature[6]': 1, 'feature[7]': 0, 'feature[8]': 0, 'feature[9]': 0} nan\n",
      "{'feature[0]': 1, 'feature[10]': 0, 'feature[11]': 1, 'feature[12]': 0, 'feature[13]': 1, 'feature[14]': 1, 'feature[15]': 0, 'feature[16]': 1, 'feature[17]': 1, 'feature[18]': 1, 'feature[19]': 0, 'feature[1]': 0, 'feature[20]': 1, 'feature[21]': 1, 'feature[22]': 0, 'feature[23]': 0, 'feature[24]': 0, 'feature[25]': 0, 'feature[26]': 1, 'feature[27]': 1, 'feature[28]': 1, 'feature[29]': 0, 'feature[2]': 0, 'feature[30]': 1, 'feature[31]': 1, 'feature[32]': 0, 'feature[33]': 0, 'feature[34]': 1, 'feature[35]': 0, 'feature[36]': 1, 'feature[37]': 0, 'feature[38]': 1, 'feature[39]': 1, 'feature[3]': 1, 'feature[40]': 0, 'feature[41]': 0, 'feature[42]': 1, 'feature[43]': 0, 'feature[44]': 1, 'feature[45]': 0, 'feature[46]': 0, 'feature[47]': 0, 'feature[48]': 0, 'feature[49]': 0, 'feature[4]': 0, 'feature[50]': 0, 'feature[51]': 1, 'feature[52]': 0, 'feature[53]': 1, 'feature[54]': 1, 'feature[55]': 0, 'feature[56]': 1, 'feature[57]': 0, 'feature[58]': 1, 'feature[59]': 0, 'feature[5]': 0, 'feature[60]': 0, 'feature[61]': 1, 'feature[62]': 1, 'feature[63]': 0, 'feature[64]': 1, 'feature[65]': 1, 'feature[66]': 0, 'feature[67]': 1, 'feature[6]': 1, 'feature[7]': 1, 'feature[8]': 1, 'feature[9]': 1} nan\n",
      "{'feature[0]': 1, 'feature[10]': 1, 'feature[11]': 0, 'feature[12]': 1, 'feature[13]': 0, 'feature[14]': 1, 'feature[15]': 1, 'feature[16]': 1, 'feature[17]': 1, 'feature[18]': 0, 'feature[19]': 0, 'feature[1]': 1, 'feature[20]': 1, 'feature[21]': 1, 'feature[22]': 1, 'feature[23]': 1, 'feature[24]': 1, 'feature[25]': 0, 'feature[26]': 1, 'feature[27]': 0, 'feature[28]': 0, 'feature[29]': 1, 'feature[2]': 1, 'feature[30]': 1, 'feature[31]': 1, 'feature[32]': 0, 'feature[33]': 1, 'feature[34]': 1, 'feature[35]': 1, 'feature[36]': 0, 'feature[37]': 1, 'feature[38]': 0, 'feature[39]': 0, 'feature[3]': 0, 'feature[40]': 1, 'feature[41]': 1, 'feature[42]': 1, 'feature[43]': 0, 'feature[44]': 1, 'feature[45]': 0, 'feature[46]': 0, 'feature[47]': 1, 'feature[48]': 1, 'feature[49]': 1, 'feature[4]': 0, 'feature[50]': 1, 'feature[51]': 1, 'feature[52]': 0, 'feature[53]': 0, 'feature[54]': 0, 'feature[55]': 0, 'feature[56]': 1, 'feature[57]': 1, 'feature[58]': 0, 'feature[59]': 1, 'feature[5]': 1, 'feature[60]': 1, 'feature[61]': 1, 'feature[62]': 1, 'feature[63]': 0, 'feature[64]': 1, 'feature[65]': 1, 'feature[66]': 0, 'feature[67]': 0, 'feature[6]': 1, 'feature[7]': 0, 'feature[8]': 0, 'feature[9]': 1} nan\n"
     ]
    },
    {
     "name": "stderr",
     "output_type": "stream",
     "text": [
      "C:\\Users\\SIEMINGFONG\\AppData\\Roaming\\Python\\Python38\\site-packages\\dwave\\samplers\\sa\\sampler.py:576: RuntimeWarning: divide by zero encountered in log\n",
      "  cold_beta = np.log(number_min_gaps/max_single_qubit_excitation_rate) / (2*min_effective_field)\n"
     ]
    }
   ],
   "source": [
    "\n",
    "# Load the CSV file\n",
    "for i in range(0, 6):\n",
    "    # Load the class 0~6 CSV file\n",
    "    file_path = f'../data_p/quantum_data.address_class{i}.csv'\n",
    "    df = pd.read_csv(file_path)\n",
    "\n",
    "    # Extracting each column as an array\n",
    "    columns = df.columns\n",
    "    features = df[columns[:-1]]  # All columns except the last one\n",
    "    result = df[columns[-1]]    # The last column\n",
    "    n_features = features.shape[1]\n",
    "\n",
    "    # Calculate the correlation matrix for features\n",
    "    feature_correlation = features.corr(method='spearman')\n",
    "\n",
    "    # Calculate the correlation of each feature with the result\n",
    "    result_correlation = features.apply(lambda x: x.corr(result))\n",
    "    \n",
    "    # Define alpha for the QUBO problem\n",
    "    alpha = 0.5\n",
    "\n",
    "    feature_qubo = FeatureSelection_v1(n_features, feature_correlation.values, result_correlation.values, alpha)\n",
    "\n",
    "    # Feature influence coefficients: Correlation of each feature with the result\n",
    "    objective = feature_qubo.influence() + feature_qubo.dependency()\n",
    "    model = objective.compile()\n",
    "    qubo, offset = model.to_qubo()\n",
    "\n",
    "    # Solve QUBO using Simulated Annealing Sampler\n",
    "    sampler = neal.SimulatedAnnealingSampler()\n",
    "    response = sampler.sample_qubo(qubo)\n",
    "    # print(\"qubo:\", qubo)\n",
    "        \n",
    "    # Print results\n",
    "    for sample, energy in response.data(['sample', 'energy']):\n",
    "        print(sample, energy)\n",
    "        \n",
    "    # Find the best sample (modify this as per your criteria)\n",
    "    # For simplicity, we're taking the first sample as an example\n",
    "    best_sample = list(response.samples())[0]\n",
    "\n",
    "    # Identify selected features\n",
    "    selected_features = [int(key.split('[')[1].split(']')[0]) for key, value in best_sample.items() if value == 1]\n",
    "\n",
    "    # Filter the DataFrame to keep only the selected columns\n",
    "    filtered_df = df.iloc[:, selected_features]\n",
    "\n",
    "    # Add the index of the last column (class) to the selected features\n",
    "    last_column = df[columns[-1]]\n",
    "    filtered_df = pd.concat([filtered_df, last_column], axis=1)\n",
    "\n",
    "    # Save the filtered DataFrame to a new CSV file\n",
    "    filtered_df.to_csv(f'../data_p/quantum_qubo_data.address_class{i}.csv', index=False)\n",
    "\n"
   ]
  },
  {
   "cell_type": "code",
   "execution_count": 4,
   "metadata": {},
   "outputs": [],
   "source": [
    "import pandas as pd\n",
    "\n",
    "# Initialize an empty DataFrame for merging\n",
    "merged_df = pd.DataFrame()\n",
    "\n",
    "# Loop through class0 to class5\n",
    "for i in range(0, 6):\n",
    "    # Read each file\n",
    "    file_path = f'../data_p/quantum_qubo_data.address_class{i}.csv'\n",
    "    df = pd.read_csv(file_path)\n",
    "\n",
    "    # Remove rows where the last column (class{i}) has a value of 0\n",
    "    df = df[df[df.columns[-1]] != 0]\n",
    "\n",
    "    # Rename the last column to 'class', and set its value to the current class number for rows with 1\n",
    "    df.rename(columns={df.columns[-1]: 'class'}, inplace=True)\n",
    "    df['class'] = df['class'].apply(lambda x: i if x == 1 else x)\n",
    "\n",
    "    # Add the DataFrame to the merged DataFrame\n",
    "    merged_df = pd.concat([merged_df, df], ignore_index=True)\n",
    "\n",
    "# Fill all NaN values with 0\n",
    "merged_df.fillna(0, inplace=True)\n",
    "\n",
    "# Move the 'class' column to the end\n",
    "class_column = merged_df.pop('class')\n",
    "merged_df['class'] = class_column\n",
    "\n",
    "# Save the merged DataFrame to a new CSV file\n",
    "merged_df.to_csv('../data_p/quantum_qubo_data.address.csv', index=False)\n"
   ]
  }
 ],
 "metadata": {
  "kernelspec": {
   "display_name": "Python 3",
   "language": "python",
   "name": "python3"
  },
  "language_info": {
   "codemirror_mode": {
    "name": "ipython",
    "version": 3
   },
   "file_extension": ".py",
   "mimetype": "text/x-python",
   "name": "python",
   "nbconvert_exporter": "python",
   "pygments_lexer": "ipython3",
   "version": "3.8.9"
  }
 },
 "nbformat": 4,
 "nbformat_minor": 2
}
